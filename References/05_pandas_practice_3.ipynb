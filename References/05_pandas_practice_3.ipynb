{
 "cells": [
  {
   "attachments": {},
   "cell_type": "markdown",
   "metadata": {},
   "source": [
    "# Pandas Practice 3 (Bike Share Data)"
   ]
  },
  {
   "attachments": {},
   "cell_type": "markdown",
   "metadata": {},
   "source": [
    "As a data scientist, you don't always have to invent the wheel from scratch. The great advantage of Python is that smart people before you spend a lot of energy on making life easier for the next programers. So please, make your life easier and use code that has already been implemented, don't call it \"copying\" but \"friendly borrowing\" of other people's code. If you copy whole functions or great graphs in the future, don't forget to give props to the inventor!\n",
    "\n",
    "So for this exercise, too, if you get stuck at any point, look at good solutions from others and learn a lot from them about how to solve these problems even better.\n",
    "Here are two good resources for small code snippet which can be very helpful when dealing with DataFrames:\n",
    "\n",
    "- [Sebastian Raschkas \"Things in Pandas I Wish I'd Known Earlier\"](https://nbviewer.jupyter.org/github/rasbt/python_reference/blob/master/tutorials/things_in_pandas.ipynb)\n",
    "- [Chris Albons set of code snippets](https://chrisalbon.com/)\n",
    "\n",
    "\n",
    "**By the end of this session you should be able to**\n",
    "- Explore data with pandas to answer conceptual questions\n",
    "- Write chained commands for efficient one-liners\n"
   ]
  },
  {
   "cell_type": "code",
   "execution_count": 2,
   "metadata": {},
   "outputs": [],
   "source": [
    "import pandas as pd\n",
    "import matplotlib.pyplot as plt\n",
    "import datetime as dt"
   ]
  },
  {
   "cell_type": "code",
   "execution_count": 3,
   "metadata": {},
   "outputs": [
    {
     "name": "stdout",
     "output_type": "stream",
     "text": [
      "140 ms ± 1.26 ms per loop (mean ± std. dev. of 7 runs, 10 loops each)\n"
     ]
    }
   ],
   "source": [
    "%timeit df = pd.read_csv('data/bike_share_201402_trip_data.csv')"
   ]
  },
  {
   "cell_type": "markdown",
   "metadata": {},
   "source": [
    "How many observations are there?"
   ]
  },
  {
   "cell_type": "code",
   "execution_count": 4,
   "metadata": {},
   "outputs": [
    {
     "data": {
      "text/html": [
       "<div>\n",
       "<style scoped>\n",
       "    .dataframe tbody tr th:only-of-type {\n",
       "        vertical-align: middle;\n",
       "    }\n",
       "\n",
       "    .dataframe tbody tr th {\n",
       "        vertical-align: top;\n",
       "    }\n",
       "\n",
       "    .dataframe thead th {\n",
       "        text-align: right;\n",
       "    }\n",
       "</style>\n",
       "<table border=\"1\" class=\"dataframe\">\n",
       "  <thead>\n",
       "    <tr style=\"text-align: right;\">\n",
       "      <th></th>\n",
       "      <th>Trip ID</th>\n",
       "      <th>Duration</th>\n",
       "      <th>Start Date</th>\n",
       "      <th>Start Station</th>\n",
       "      <th>Start Terminal</th>\n",
       "      <th>End Date</th>\n",
       "      <th>End Station</th>\n",
       "      <th>End Terminal</th>\n",
       "      <th>Bike #</th>\n",
       "      <th>Subscription Type</th>\n",
       "      <th>Zip Code</th>\n",
       "    </tr>\n",
       "  </thead>\n",
       "  <tbody>\n",
       "    <tr>\n",
       "      <th>0</th>\n",
       "      <td>4576</td>\n",
       "      <td>63</td>\n",
       "      <td>8/29/2013 14:13</td>\n",
       "      <td>South Van Ness at Market</td>\n",
       "      <td>66</td>\n",
       "      <td>8/29/2013 14:14</td>\n",
       "      <td>South Van Ness at Market</td>\n",
       "      <td>66</td>\n",
       "      <td>520</td>\n",
       "      <td>Subscriber</td>\n",
       "      <td>94127</td>\n",
       "    </tr>\n",
       "    <tr>\n",
       "      <th>1</th>\n",
       "      <td>4607</td>\n",
       "      <td>70</td>\n",
       "      <td>8/29/2013 14:42</td>\n",
       "      <td>San Jose City Hall</td>\n",
       "      <td>10</td>\n",
       "      <td>8/29/2013 14:43</td>\n",
       "      <td>San Jose City Hall</td>\n",
       "      <td>10</td>\n",
       "      <td>661</td>\n",
       "      <td>Subscriber</td>\n",
       "      <td>95138</td>\n",
       "    </tr>\n",
       "    <tr>\n",
       "      <th>2</th>\n",
       "      <td>4130</td>\n",
       "      <td>71</td>\n",
       "      <td>8/29/2013 10:16</td>\n",
       "      <td>Mountain View City Hall</td>\n",
       "      <td>27</td>\n",
       "      <td>8/29/2013 10:17</td>\n",
       "      <td>Mountain View City Hall</td>\n",
       "      <td>27</td>\n",
       "      <td>48</td>\n",
       "      <td>Subscriber</td>\n",
       "      <td>97214</td>\n",
       "    </tr>\n",
       "    <tr>\n",
       "      <th>3</th>\n",
       "      <td>4251</td>\n",
       "      <td>77</td>\n",
       "      <td>8/29/2013 11:29</td>\n",
       "      <td>San Jose City Hall</td>\n",
       "      <td>10</td>\n",
       "      <td>8/29/2013 11:30</td>\n",
       "      <td>San Jose City Hall</td>\n",
       "      <td>10</td>\n",
       "      <td>26</td>\n",
       "      <td>Subscriber</td>\n",
       "      <td>95060</td>\n",
       "    </tr>\n",
       "    <tr>\n",
       "      <th>4</th>\n",
       "      <td>4299</td>\n",
       "      <td>83</td>\n",
       "      <td>8/29/2013 12:02</td>\n",
       "      <td>South Van Ness at Market</td>\n",
       "      <td>66</td>\n",
       "      <td>8/29/2013 12:04</td>\n",
       "      <td>Market at 10th</td>\n",
       "      <td>67</td>\n",
       "      <td>319</td>\n",
       "      <td>Subscriber</td>\n",
       "      <td>94103</td>\n",
       "    </tr>\n",
       "  </tbody>\n",
       "</table>\n",
       "</div>"
      ],
      "text/plain": [
       "   Trip ID  Duration       Start Date             Start Station  \\\n",
       "0     4576        63  8/29/2013 14:13  South Van Ness at Market   \n",
       "1     4607        70  8/29/2013 14:42        San Jose City Hall   \n",
       "2     4130        71  8/29/2013 10:16   Mountain View City Hall   \n",
       "3     4251        77  8/29/2013 11:29        San Jose City Hall   \n",
       "4     4299        83  8/29/2013 12:02  South Van Ness at Market   \n",
       "\n",
       "   Start Terminal         End Date               End Station  End Terminal  \\\n",
       "0              66  8/29/2013 14:14  South Van Ness at Market            66   \n",
       "1              10  8/29/2013 14:43        San Jose City Hall            10   \n",
       "2              27  8/29/2013 10:17   Mountain View City Hall            27   \n",
       "3              10  8/29/2013 11:30        San Jose City Hall            10   \n",
       "4              66  8/29/2013 12:04            Market at 10th            67   \n",
       "\n",
       "   Bike # Subscription Type Zip Code  \n",
       "0     520        Subscriber    94127  \n",
       "1     661        Subscriber    95138  \n",
       "2      48        Subscriber    97214  \n",
       "3      26        Subscriber    95060  \n",
       "4     319        Subscriber    94103  "
      ]
     },
     "execution_count": 4,
     "metadata": {},
     "output_type": "execute_result"
    }
   ],
   "source": [
    "df.head()"
   ]
  },
  {
   "attachments": {},
   "cell_type": "markdown",
   "metadata": {},
   "source": [
    "Change the columns to be pythonic:\n",
    "\n",
    "- lowercase \n",
    "- replace \" \" with `_` as a separator\n",
    "- replace \"#\" with `num` \n"
   ]
  },
  {
   "cell_type": "code",
   "execution_count": 7,
   "metadata": {},
   "outputs": [],
   "source": [
    "#lowercase\n",
    "df.columns = df.columns.str.lower()\n",
    "# replace \" \"\n",
    "df.columns = df.columns.str.replace(\" \", \"_\")\n",
    "\n",
    "# replace #\n",
    "df.columns = df.columns.str.replace(\"#\", \"num\")\n"
   ]
  },
  {
   "cell_type": "markdown",
   "metadata": {},
   "source": [
    "How many types of subscription options are there? What are the different subscription types?"
   ]
  },
  {
   "cell_type": "code",
   "execution_count": 12,
   "metadata": {},
   "outputs": [
    {
     "name": "stdout",
     "output_type": "stream",
     "text": [
      "Type #: 2\n",
      "Type: ['Subscriber' 'Customer']\n"
     ]
    }
   ],
   "source": [
    "print(\"Type #:\", df.subscription_type.nunique())\n",
    "print(\"Type:\", df.subscription_type.unique())"
   ]
  },
  {
   "cell_type": "markdown",
   "metadata": {},
   "source": [
    "What is the frequency of each subscription option?"
   ]
  },
  {
   "cell_type": "code",
   "execution_count": 17,
   "metadata": {},
   "outputs": [
    {
     "data": {
      "text/plain": [
       "subscription_type\n",
       "Subscriber    113647\n",
       "Customer       30368\n",
       "Name: count, dtype: int64"
      ]
     },
     "execution_count": 17,
     "metadata": {},
     "output_type": "execute_result"
    }
   ],
   "source": [
    "df.subscription_type.value_counts()"
   ]
  },
  {
   "cell_type": "code",
   "execution_count": null,
   "metadata": {},
   "outputs": [],
   "source": []
  },
  {
   "cell_type": "markdown",
   "metadata": {},
   "source": [
    "Please plot the frequency of each subscription option with a pie chart:"
   ]
  },
  {
   "cell_type": "code",
   "execution_count": 18,
   "metadata": {},
   "outputs": [
    {
     "data": {
      "text/plain": [
       "<Axes: ylabel='count'>"
      ]
     },
     "execution_count": 18,
     "metadata": {},
     "output_type": "execute_result"
    },
    {
     "data": {
      "image/png": "[encoded data removed]",
      "text/plain": [
       "<Figure size 640x480 with 1 Axes>"
      ]
     },
     "metadata": {},
     "output_type": "display_data"
    }
   ],
   "source": [
    "df.subscription_type.value_counts().plot(kind=\"pie\")"
   ]
  },
  {
   "cell_type": "markdown",
   "metadata": {},
   "source": [
    "Please plot the frequency of each subscription option with a bar chart:"
   ]
  },
  {
   "cell_type": "code",
   "execution_count": 19,
   "metadata": {},
   "outputs": [
    {
     "data": {
      "text/plain": [
       "<Axes: xlabel='subscription_type'>"
      ]
     },
     "execution_count": 19,
     "metadata": {},
     "output_type": "execute_result"
    },
    {
     "data": {
      "image/png": "[encoded data removed]",
      "text/plain": [
       "<Figure size 640x480 with 1 Axes>"
      ]
     },
     "metadata": {},
     "output_type": "display_data"
    }
   ],
   "source": [
    "df.subscription_type.value_counts().plot(kind=\"bar\")"
   ]
  },
  {
   "cell_type": "markdown",
   "metadata": {},
   "source": [
    "Have a look at the start_station column: Which 10 stations occur most frequently?"
   ]
  },
  {
   "cell_type": "code",
   "execution_count": 25,
   "metadata": {},
   "outputs": [
    {
     "data": {
      "text/plain": [
       "start_station\n",
       "San Francisco Caltrain (Townsend at 4th)         9838\n",
       "Harry Bridges Plaza (Ferry Building)             7343\n",
       "Embarcadero at Sansome                           6545\n",
       "Market at Sansome                                5922\n",
       "Temporary Transbay Terminal (Howard at Beale)    5113\n",
       "Market at 4th                                    5030\n",
       "2nd at Townsend                                  4987\n",
       "San Francisco Caltrain 2 (330 Townsend)          4976\n",
       "Steuart at Market                                4913\n",
       "Townsend at 7th                                  4493\n",
       "Name: count, dtype: int64"
      ]
     },
     "execution_count": 25,
     "metadata": {},
     "output_type": "execute_result"
    }
   ],
   "source": [
    "df.start_station.value_counts().sort_values(ascending=False)[:10]"
   ]
  },
  {
   "cell_type": "markdown",
   "metadata": {},
   "source": [
    "Now look at the end_station column: Which 10 stations occur the least often?"
   ]
  },
  {
   "cell_type": "code",
   "execution_count": 27,
   "metadata": {},
   "outputs": [
    {
     "data": {
      "text/plain": [
       "end_station\n",
       "Broadway St at Battery St           205\n",
       "Redwood City Medical Center         178\n",
       "Castro Street and El Camino Real    129\n",
       "Redwood City Public Library         117\n",
       "San Mateo County Center             106\n",
       "Franklin at Maple                    93\n",
       "San Antonio Shopping Center          93\n",
       "Broadway at Main                     56\n",
       "San Jose Government Center           23\n",
       "Mezes Park                            5\n",
       "Name: count, dtype: int64"
      ]
     },
     "execution_count": 27,
     "metadata": {},
     "output_type": "execute_result"
    }
   ],
   "source": [
    "df.end_station.value_counts().sort_values(ascending=False).tail(10)"
   ]
  },
  {
   "cell_type": "markdown",
   "metadata": {},
   "source": [
    "Create a table that has start_station segmented by subscription_type and include also the row/column margins (subtotals). If you are not sure how to do it, check out the documentation for `pd.crosstab()`."
   ]
  },
  {
   "cell_type": "code",
   "execution_count": 28,
   "metadata": {},
   "outputs": [
    {
     "data": {
      "text/html": [
       "<div>\n",
       "<style scoped>\n",
       "    .dataframe tbody tr th:only-of-type {\n",
       "        vertical-align: middle;\n",
       "    }\n",
       "\n",
       "    .dataframe tbody tr th {\n",
       "        vertical-align: top;\n",
       "    }\n",
       "\n",
       "    .dataframe thead th {\n",
       "        text-align: right;\n",
       "    }\n",
       "</style>\n",
       "<table border=\"1\" class=\"dataframe\">\n",
       "  <thead>\n",
       "    <tr style=\"text-align: right;\">\n",
       "      <th>subscription_type</th>\n",
       "      <th>Customer</th>\n",
       "      <th>Subscriber</th>\n",
       "    </tr>\n",
       "    <tr>\n",
       "      <th>start_station</th>\n",
       "      <th></th>\n",
       "      <th></th>\n",
       "    </tr>\n",
       "  </thead>\n",
       "  <tbody>\n",
       "    <tr>\n",
       "      <th>2nd at Folsom</th>\n",
       "      <td>427</td>\n",
       "      <td>3349</td>\n",
       "    </tr>\n",
       "    <tr>\n",
       "      <th>2nd at South Park</th>\n",
       "      <td>535</td>\n",
       "      <td>3923</td>\n",
       "    </tr>\n",
       "    <tr>\n",
       "      <th>2nd at Townsend</th>\n",
       "      <td>882</td>\n",
       "      <td>4105</td>\n",
       "    </tr>\n",
       "    <tr>\n",
       "      <th>5th at Howard</th>\n",
       "      <td>606</td>\n",
       "      <td>2029</td>\n",
       "    </tr>\n",
       "    <tr>\n",
       "      <th>Adobe on Almaden</th>\n",
       "      <td>75</td>\n",
       "      <td>260</td>\n",
       "    </tr>\n",
       "    <tr>\n",
       "      <th>...</th>\n",
       "      <td>...</td>\n",
       "      <td>...</td>\n",
       "    </tr>\n",
       "    <tr>\n",
       "      <th>Temporary Transbay Terminal (Howard at Beale)</th>\n",
       "      <td>427</td>\n",
       "      <td>4686</td>\n",
       "    </tr>\n",
       "    <tr>\n",
       "      <th>Townsend at 7th</th>\n",
       "      <td>518</td>\n",
       "      <td>3975</td>\n",
       "    </tr>\n",
       "    <tr>\n",
       "      <th>University and Emerson</th>\n",
       "      <td>328</td>\n",
       "      <td>106</td>\n",
       "    </tr>\n",
       "    <tr>\n",
       "      <th>Washington at Kearney</th>\n",
       "      <td>561</td>\n",
       "      <td>911</td>\n",
       "    </tr>\n",
       "    <tr>\n",
       "      <th>Yerba Buena Center of the Arts (3rd @ Howard)</th>\n",
       "      <td>628</td>\n",
       "      <td>1859</td>\n",
       "    </tr>\n",
       "  </tbody>\n",
       "</table>\n",
       "<p>69 rows × 2 columns</p>\n",
       "</div>"
      ],
      "text/plain": [
       "subscription_type                              Customer  Subscriber\n",
       "start_station                                                      \n",
       "2nd at Folsom                                       427        3349\n",
       "2nd at South Park                                   535        3923\n",
       "2nd at Townsend                                     882        4105\n",
       "5th at Howard                                       606        2029\n",
       "Adobe on Almaden                                     75         260\n",
       "...                                                 ...         ...\n",
       "Temporary Transbay Terminal (Howard at Beale)       427        4686\n",
       "Townsend at 7th                                     518        3975\n",
       "University and Emerson                              328         106\n",
       "Washington at Kearney                               561         911\n",
       "Yerba Buena Center of the Arts (3rd @ Howard)       628        1859\n",
       "\n",
       "[69 rows x 2 columns]"
      ]
     },
     "execution_count": 28,
     "metadata": {},
     "output_type": "execute_result"
    }
   ],
   "source": [
    "pd.crosstab(df.start_station, df.subscription_type)"
   ]
  },
  {
   "cell_type": "markdown",
   "metadata": {},
   "source": [
    "Let's look at the duration... Which unit do you think is used here?\n",
    "\n",
    "How long is the shortest trip? How many are that short?"
   ]
  },
  {
   "cell_type": "code",
   "execution_count": 30,
   "metadata": {},
   "outputs": [
    {
     "data": {
      "text/plain": [
       "60"
      ]
     },
     "execution_count": 30,
     "metadata": {},
     "output_type": "execute_result"
    }
   ],
   "source": [
    "df.duration.min()"
   ]
  },
  {
   "cell_type": "markdown",
   "metadata": {},
   "source": [
    "What do you think is going on with the short trips?"
   ]
  },
  {
   "cell_type": "code",
   "execution_count": 37,
   "metadata": {},
   "outputs": [
    {
     "data": {
      "text/html": [
       "<div>\n",
       "<style scoped>\n",
       "    .dataframe tbody tr th:only-of-type {\n",
       "        vertical-align: middle;\n",
       "    }\n",
       "\n",
       "    .dataframe tbody tr th {\n",
       "        vertical-align: top;\n",
       "    }\n",
       "\n",
       "    .dataframe thead th {\n",
       "        text-align: right;\n",
       "    }\n",
       "</style>\n",
       "<table border=\"1\" class=\"dataframe\">\n",
       "  <thead>\n",
       "    <tr style=\"text-align: right;\">\n",
       "      <th></th>\n",
       "      <th>trip_id</th>\n",
       "      <th>duration</th>\n",
       "      <th>start_date</th>\n",
       "      <th>start_station</th>\n",
       "      <th>start_terminal</th>\n",
       "      <th>end_date</th>\n",
       "      <th>end_station</th>\n",
       "      <th>end_terminal</th>\n",
       "      <th>bike_num</th>\n",
       "      <th>subscription_type</th>\n",
       "      <th>zip_code</th>\n",
       "    </tr>\n",
       "  </thead>\n",
       "  <tbody>\n",
       "    <tr>\n",
       "      <th>2887</th>\n",
       "      <td>8576</td>\n",
       "      <td>60</td>\n",
       "      <td>9/2/2013 9:40</td>\n",
       "      <td>Harry Bridges Plaza (Ferry Building)</td>\n",
       "      <td>50</td>\n",
       "      <td>9/2/2013 9:41</td>\n",
       "      <td>Harry Bridges Plaza (Ferry Building)</td>\n",
       "      <td>50</td>\n",
       "      <td>354</td>\n",
       "      <td>Subscriber</td>\n",
       "      <td>94102</td>\n",
       "    </tr>\n",
       "    <tr>\n",
       "      <th>2925</th>\n",
       "      <td>8651</td>\n",
       "      <td>60</td>\n",
       "      <td>9/2/2013 10:50</td>\n",
       "      <td>San Francisco Caltrain 2 (330 Townsend)</td>\n",
       "      <td>69</td>\n",
       "      <td>9/2/2013 10:51</td>\n",
       "      <td>San Francisco Caltrain 2 (330 Townsend)</td>\n",
       "      <td>69</td>\n",
       "      <td>544</td>\n",
       "      <td>Subscriber</td>\n",
       "      <td>94107</td>\n",
       "    </tr>\n",
       "    <tr>\n",
       "      <th>3535</th>\n",
       "      <td>9444</td>\n",
       "      <td>60</td>\n",
       "      <td>9/3/2013 8:37</td>\n",
       "      <td>Redwood City Public Library</td>\n",
       "      <td>24</td>\n",
       "      <td>9/3/2013 8:38</td>\n",
       "      <td>Redwood City Public Library</td>\n",
       "      <td>24</td>\n",
       "      <td>239</td>\n",
       "      <td>Subscriber</td>\n",
       "      <td>94105</td>\n",
       "    </tr>\n",
       "    <tr>\n",
       "      <th>7296</th>\n",
       "      <td>14644</td>\n",
       "      <td>60</td>\n",
       "      <td>9/8/2013 13:55</td>\n",
       "      <td>San Francisco Caltrain (Townsend at 4th)</td>\n",
       "      <td>70</td>\n",
       "      <td>9/8/2013 13:56</td>\n",
       "      <td>San Francisco Caltrain (Townsend at 4th)</td>\n",
       "      <td>70</td>\n",
       "      <td>521</td>\n",
       "      <td>Subscriber</td>\n",
       "      <td>95126</td>\n",
       "    </tr>\n",
       "    <tr>\n",
       "      <th>10457</th>\n",
       "      <td>18792</td>\n",
       "      <td>60</td>\n",
       "      <td>9/12/2013 10:09</td>\n",
       "      <td>Civic Center BART (7th at Market)</td>\n",
       "      <td>72</td>\n",
       "      <td>9/12/2013 10:10</td>\n",
       "      <td>Civic Center BART (7th at Market)</td>\n",
       "      <td>72</td>\n",
       "      <td>632</td>\n",
       "      <td>Subscriber</td>\n",
       "      <td>94103</td>\n",
       "    </tr>\n",
       "    <tr>\n",
       "      <th>11545</th>\n",
       "      <td>20271</td>\n",
       "      <td>60</td>\n",
       "      <td>9/13/2013 12:43</td>\n",
       "      <td>Market at 4th</td>\n",
       "      <td>76</td>\n",
       "      <td>9/13/2013 12:44</td>\n",
       "      <td>Market at 4th</td>\n",
       "      <td>76</td>\n",
       "      <td>500</td>\n",
       "      <td>Subscriber</td>\n",
       "      <td>94116</td>\n",
       "    </tr>\n",
       "    <tr>\n",
       "      <th>13437</th>\n",
       "      <td>22689</td>\n",
       "      <td>60</td>\n",
       "      <td>9/15/2013 21:15</td>\n",
       "      <td>Embarcadero at Sansome</td>\n",
       "      <td>60</td>\n",
       "      <td>9/15/2013 21:16</td>\n",
       "      <td>Embarcadero at Sansome</td>\n",
       "      <td>60</td>\n",
       "      <td>577</td>\n",
       "      <td>Subscriber</td>\n",
       "      <td>94111</td>\n",
       "    </tr>\n",
       "    <tr>\n",
       "      <th>20568</th>\n",
       "      <td>32159</td>\n",
       "      <td>60</td>\n",
       "      <td>9/23/2013 18:53</td>\n",
       "      <td>Townsend at 7th</td>\n",
       "      <td>65</td>\n",
       "      <td>9/23/2013 18:54</td>\n",
       "      <td>Townsend at 7th</td>\n",
       "      <td>65</td>\n",
       "      <td>566</td>\n",
       "      <td>Subscriber</td>\n",
       "      <td>94107</td>\n",
       "    </tr>\n",
       "    <tr>\n",
       "      <th>40000</th>\n",
       "      <td>57581</td>\n",
       "      <td>60</td>\n",
       "      <td>10/14/2013 14:47</td>\n",
       "      <td>Clay at Battery</td>\n",
       "      <td>41</td>\n",
       "      <td>10/14/2013 14:48</td>\n",
       "      <td>Clay at Battery</td>\n",
       "      <td>41</td>\n",
       "      <td>368</td>\n",
       "      <td>Subscriber</td>\n",
       "      <td>94158</td>\n",
       "    </tr>\n",
       "    <tr>\n",
       "      <th>55127</th>\n",
       "      <td>77650</td>\n",
       "      <td>60</td>\n",
       "      <td>10/30/2013 18:22</td>\n",
       "      <td>Harry Bridges Plaza (Ferry Building)</td>\n",
       "      <td>50</td>\n",
       "      <td>10/30/2013 18:23</td>\n",
       "      <td>Harry Bridges Plaza (Ferry Building)</td>\n",
       "      <td>50</td>\n",
       "      <td>416</td>\n",
       "      <td>Subscriber</td>\n",
       "      <td>94110</td>\n",
       "    </tr>\n",
       "    <tr>\n",
       "      <th>72159</th>\n",
       "      <td>100171</td>\n",
       "      <td>60</td>\n",
       "      <td>11/18/2013 15:01</td>\n",
       "      <td>Temporary Transbay Terminal (Howard at Beale)</td>\n",
       "      <td>55</td>\n",
       "      <td>11/18/2013 15:02</td>\n",
       "      <td>Temporary Transbay Terminal (Howard at Beale)</td>\n",
       "      <td>55</td>\n",
       "      <td>469</td>\n",
       "      <td>Subscriber</td>\n",
       "      <td>94158</td>\n",
       "    </tr>\n",
       "    <tr>\n",
       "      <th>79739</th>\n",
       "      <td>110247</td>\n",
       "      <td>60</td>\n",
       "      <td>11/28/2013 9:52</td>\n",
       "      <td>2nd at Townsend</td>\n",
       "      <td>61</td>\n",
       "      <td>11/28/2013 9:53</td>\n",
       "      <td>2nd at Townsend</td>\n",
       "      <td>61</td>\n",
       "      <td>546</td>\n",
       "      <td>Subscriber</td>\n",
       "      <td>94107</td>\n",
       "    </tr>\n",
       "    <tr>\n",
       "      <th>88852</th>\n",
       "      <td>122928</td>\n",
       "      <td>60</td>\n",
       "      <td>12/12/2013 9:18</td>\n",
       "      <td>Powell at Post (Union Square)</td>\n",
       "      <td>71</td>\n",
       "      <td>12/12/2013 9:19</td>\n",
       "      <td>Powell at Post (Union Square)</td>\n",
       "      <td>71</td>\n",
       "      <td>614</td>\n",
       "      <td>Subscriber</td>\n",
       "      <td>94103</td>\n",
       "    </tr>\n",
       "    <tr>\n",
       "      <th>92925</th>\n",
       "      <td>128828</td>\n",
       "      <td>60</td>\n",
       "      <td>12/17/2013 17:28</td>\n",
       "      <td>Steuart at Market</td>\n",
       "      <td>74</td>\n",
       "      <td>12/17/2013 17:29</td>\n",
       "      <td>Steuart at Market</td>\n",
       "      <td>74</td>\n",
       "      <td>409</td>\n",
       "      <td>Subscriber</td>\n",
       "      <td>94105</td>\n",
       "    </tr>\n",
       "    <tr>\n",
       "      <th>98183</th>\n",
       "      <td>136099</td>\n",
       "      <td>60</td>\n",
       "      <td>12/26/2013 15:55</td>\n",
       "      <td>2nd at South Park</td>\n",
       "      <td>64</td>\n",
       "      <td>12/26/2013 15:56</td>\n",
       "      <td>2nd at South Park</td>\n",
       "      <td>64</td>\n",
       "      <td>423</td>\n",
       "      <td>Subscriber</td>\n",
       "      <td>94107</td>\n",
       "    </tr>\n",
       "    <tr>\n",
       "      <th>115725</th>\n",
       "      <td>160479</td>\n",
       "      <td>60</td>\n",
       "      <td>1/21/2014 13:01</td>\n",
       "      <td>2nd at Townsend</td>\n",
       "      <td>61</td>\n",
       "      <td>1/21/2014 13:02</td>\n",
       "      <td>2nd at Townsend</td>\n",
       "      <td>61</td>\n",
       "      <td>320</td>\n",
       "      <td>Subscriber</td>\n",
       "      <td>94115</td>\n",
       "    </tr>\n",
       "    <tr>\n",
       "      <th>124134</th>\n",
       "      <td>171822</td>\n",
       "      <td>60</td>\n",
       "      <td>1/30/2014 21:51</td>\n",
       "      <td>2nd at Townsend</td>\n",
       "      <td>61</td>\n",
       "      <td>1/30/2014 21:52</td>\n",
       "      <td>2nd at Townsend</td>\n",
       "      <td>61</td>\n",
       "      <td>404</td>\n",
       "      <td>Subscriber</td>\n",
       "      <td>94107</td>\n",
       "    </tr>\n",
       "  </tbody>\n",
       "</table>\n",
       "</div>"
      ],
      "text/plain": [
       "        trip_id  duration        start_date  \\\n",
       "2887       8576        60     9/2/2013 9:40   \n",
       "2925       8651        60    9/2/2013 10:50   \n",
       "3535       9444        60     9/3/2013 8:37   \n",
       "7296      14644        60    9/8/2013 13:55   \n",
       "10457     18792        60   9/12/2013 10:09   \n",
       "11545     20271        60   9/13/2013 12:43   \n",
       "13437     22689        60   9/15/2013 21:15   \n",
       "20568     32159        60   9/23/2013 18:53   \n",
       "40000     57581        60  10/14/2013 14:47   \n",
       "55127     77650        60  10/30/2013 18:22   \n",
       "72159    100171        60  11/18/2013 15:01   \n",
       "79739    110247        60   11/28/2013 9:52   \n",
       "88852    122928        60   12/12/2013 9:18   \n",
       "92925    128828        60  12/17/2013 17:28   \n",
       "98183    136099        60  12/26/2013 15:55   \n",
       "115725   160479        60   1/21/2014 13:01   \n",
       "124134   171822        60   1/30/2014 21:51   \n",
       "\n",
       "                                        start_station  start_terminal  \\\n",
       "2887             Harry Bridges Plaza (Ferry Building)              50   \n",
       "2925          San Francisco Caltrain 2 (330 Townsend)              69   \n",
       "3535                      Redwood City Public Library              24   \n",
       "7296         San Francisco Caltrain (Townsend at 4th)              70   \n",
       "10457               Civic Center BART (7th at Market)              72   \n",
       "11545                                   Market at 4th              76   \n",
       "13437                          Embarcadero at Sansome              60   \n",
       "20568                                 Townsend at 7th              65   \n",
       "40000                                 Clay at Battery              41   \n",
       "55127            Harry Bridges Plaza (Ferry Building)              50   \n",
       "72159   Temporary Transbay Terminal (Howard at Beale)              55   \n",
       "79739                                 2nd at Townsend              61   \n",
       "88852                   Powell at Post (Union Square)              71   \n",
       "92925                               Steuart at Market              74   \n",
       "98183                               2nd at South Park              64   \n",
       "115725                                2nd at Townsend              61   \n",
       "124134                                2nd at Townsend              61   \n",
       "\n",
       "                end_date                                    end_station  \\\n",
       "2887       9/2/2013 9:41           Harry Bridges Plaza (Ferry Building)   \n",
       "2925      9/2/2013 10:51        San Francisco Caltrain 2 (330 Townsend)   \n",
       "3535       9/3/2013 8:38                    Redwood City Public Library   \n",
       "7296      9/8/2013 13:56       San Francisco Caltrain (Townsend at 4th)   \n",
       "10457    9/12/2013 10:10              Civic Center BART (7th at Market)   \n",
       "11545    9/13/2013 12:44                                  Market at 4th   \n",
       "13437    9/15/2013 21:16                         Embarcadero at Sansome   \n",
       "20568    9/23/2013 18:54                                Townsend at 7th   \n",
       "40000   10/14/2013 14:48                                Clay at Battery   \n",
       "55127   10/30/2013 18:23           Harry Bridges Plaza (Ferry Building)   \n",
       "72159   11/18/2013 15:02  Temporary Transbay Terminal (Howard at Beale)   \n",
       "79739    11/28/2013 9:53                                2nd at Townsend   \n",
       "88852    12/12/2013 9:19                  Powell at Post (Union Square)   \n",
       "92925   12/17/2013 17:29                              Steuart at Market   \n",
       "98183   12/26/2013 15:56                              2nd at South Park   \n",
       "115725   1/21/2014 13:02                                2nd at Townsend   \n",
       "124134   1/30/2014 21:52                                2nd at Townsend   \n",
       "\n",
       "        end_terminal  bike_num subscription_type zip_code  \n",
       "2887              50       354        Subscriber    94102  \n",
       "2925              69       544        Subscriber    94107  \n",
       "3535              24       239        Subscriber    94105  \n",
       "7296              70       521        Subscriber    95126  \n",
       "10457             72       632        Subscriber    94103  \n",
       "11545             76       500        Subscriber    94116  \n",
       "13437             60       577        Subscriber    94111  \n",
       "20568             65       566        Subscriber    94107  \n",
       "40000             41       368        Subscriber    94158  \n",
       "55127             50       416        Subscriber    94110  \n",
       "72159             55       469        Subscriber    94158  \n",
       "79739             61       546        Subscriber    94107  \n",
       "88852             71       614        Subscriber    94103  \n",
       "92925             74       409        Subscriber    94105  \n",
       "98183             64       423        Subscriber    94107  \n",
       "115725            61       320        Subscriber    94115  \n",
       "124134            61       404        Subscriber    94107  "
      ]
     },
     "execution_count": 37,
     "metadata": {},
     "output_type": "execute_result"
    }
   ],
   "source": [
    "df[df.duration == 60]\n",
    "\n",
    "# directly returned back"
   ]
  },
  {
   "cell_type": "markdown",
   "metadata": {},
   "source": [
    "What is the longest trip?"
   ]
  },
  {
   "cell_type": "code",
   "execution_count": 39,
   "metadata": {},
   "outputs": [
    {
     "data": {
      "text/plain": [
       "80510    722236\n",
       "Name: duration, dtype: int64"
      ]
     },
     "execution_count": 39,
     "metadata": {},
     "output_type": "execute_result"
    }
   ],
   "source": [
    "df.duration.sort_values(ascending=False)[:1]"
   ]
  },
  {
   "cell_type": "code",
   "execution_count": null,
   "metadata": {},
   "outputs": [],
   "source": []
  },
  {
   "cell_type": "markdown",
   "metadata": {},
   "source": [
    "How would you define a \"long\" trip? How many trips are \"long\" according to your definition?"
   ]
  },
  {
   "cell_type": "code",
   "execution_count": 42,
   "metadata": {},
   "outputs": [
    {
     "data": {
      "text/plain": [
       "2479.5999999999767"
      ]
     },
     "execution_count": 42,
     "metadata": {},
     "output_type": "execute_result"
    }
   ],
   "source": [
    "df.duration.describe()\n",
    "df.duration.quantile(q=0.95)"
   ]
  },
  {
   "cell_type": "markdown",
   "metadata": {},
   "source": [
    "Longer than 95% of trips"
   ]
  },
  {
   "cell_type": "code",
   "execution_count": 51,
   "metadata": {},
   "outputs": [
    {
     "data": {
      "text/plain": [
       "(7201,)"
      ]
     },
     "execution_count": 51,
     "metadata": {},
     "output_type": "execute_result"
    }
   ],
   "source": [
    "df.query(\"duration > duration.quantile(q=0.95)\").duration.shape"
   ]
  },
  {
   "cell_type": "markdown",
   "metadata": {},
   "source": [
    "Do the long durations seem reasonable? Why are they so long? What could it tell us about the users?"
   ]
  },
  {
   "cell_type": "code",
   "execution_count": 52,
   "metadata": {},
   "outputs": [
    {
     "data": {
      "text/plain": [
       "0.6887777777777713"
      ]
     },
     "execution_count": 52,
     "metadata": {},
     "output_type": "execute_result"
    }
   ],
   "source": [
    "df.duration.quantile(q=0.95)/60/60 # in hours"
   ]
  },
  {
   "cell_type": "markdown",
   "metadata": {},
   "source": [
    "Plot the duration column."
   ]
  },
  {
   "cell_type": "code",
   "execution_count": 55,
   "metadata": {},
   "outputs": [
    {
     "data": {
      "text/plain": [
       "<Axes: ylabel='Frequency'>"
      ]
     },
     "execution_count": 55,
     "metadata": {},
     "output_type": "execute_result"
    },
    {
     "data": {
      "image/png": "[encoded data removed]",
      "text/plain": [
       "<Figure size 640x480 with 1 Axes>"
      ]
     },
     "metadata": {},
     "output_type": "display_data"
    }
   ],
   "source": [
    "df.duration.plot()"
   ]
  },
  {
   "cell_type": "markdown",
   "metadata": {},
   "source": [
    "Does this plot give any insights?"
   ]
  },
  {
   "cell_type": "markdown",
   "metadata": {},
   "source": [
    "No "
   ]
  },
  {
   "cell_type": "markdown",
   "metadata": {},
   "source": [
    "Select subsections of the data to make plots that provide more insights."
   ]
  },
  {
   "cell_type": "code",
   "execution_count": 56,
   "metadata": {},
   "outputs": [
    {
     "data": {
      "text/plain": [
       "subscription_type\n",
       "Customer      Axes(0.125,0.11;0.775x0.77)\n",
       "Subscriber    Axes(0.125,0.11;0.775x0.77)\n",
       "Name: duration, dtype: object"
      ]
     },
     "execution_count": 56,
     "metadata": {},
     "output_type": "execute_result"
    },
    {
     "data": {
      "image/png": "[encoded data removed]",
      "text/plain": [
       "<Figure size 640x480 with 1 Axes>"
      ]
     },
     "metadata": {},
     "output_type": "display_data"
    }
   ],
   "source": [
    "df.groupby(\"subscription_type\").duration.plot(kind=\"hist\")"
   ]
  },
  {
   "attachments": {},
   "cell_type": "markdown",
   "metadata": {},
   "source": [
    "The Product Team would like all of the station names to be lower case and  with `_` as a separator\n",
    "\n",
    "`South Van Ness at Market` -> `south_van_ness_at_market`  \n",
    "\n",
    "**DO NOT USE A FOR LOOP. THEY ARE THE 👿**"
   ]
  },
  {
   "cell_type": "code",
   "execution_count": 68,
   "metadata": {},
   "outputs": [],
   "source": [
    "df[\"start_station\"] = df.start_station.str.lower().str.replace(\" \", \"_\")\n",
    "df[\"end_station\"] = df.start_station.str.lower().str.replace(\" \", \"_\")\n"
   ]
  },
  {
   "cell_type": "code",
   "execution_count": null,
   "metadata": {},
   "outputs": [],
   "source": []
  },
  {
   "cell_type": "markdown",
   "metadata": {},
   "source": [
    "Now take a timer and set it to 15 minutes. Take this time to explore the data guided by your own intuition or hypotheses…\n",
    "> Timeboxing is a helpful approach when working with a new dataset so you won't fall into any rabbit holes. "
   ]
  },
  {
   "cell_type": "code",
   "execution_count": 70,
   "metadata": {},
   "outputs": [
    {
     "data": {
      "text/html": [
       "<div>\n",
       "<style scoped>\n",
       "    .dataframe tbody tr th:only-of-type {\n",
       "        vertical-align: middle;\n",
       "    }\n",
       "\n",
       "    .dataframe tbody tr th {\n",
       "        vertical-align: top;\n",
       "    }\n",
       "\n",
       "    .dataframe thead th {\n",
       "        text-align: right;\n",
       "    }\n",
       "</style>\n",
       "<table border=\"1\" class=\"dataframe\">\n",
       "  <thead>\n",
       "    <tr style=\"text-align: right;\">\n",
       "      <th></th>\n",
       "      <th>trip_id</th>\n",
       "      <th>duration</th>\n",
       "      <th>start_date</th>\n",
       "      <th>start_station</th>\n",
       "      <th>start_terminal</th>\n",
       "      <th>end_date</th>\n",
       "      <th>end_station</th>\n",
       "      <th>end_terminal</th>\n",
       "      <th>bike_num</th>\n",
       "      <th>subscription_type</th>\n",
       "      <th>zip_code</th>\n",
       "    </tr>\n",
       "  </thead>\n",
       "  <tbody>\n",
       "    <tr>\n",
       "      <th>0</th>\n",
       "      <td>4576</td>\n",
       "      <td>63</td>\n",
       "      <td>8/29/2013 14:13</td>\n",
       "      <td>south_van_ness_at_market</td>\n",
       "      <td>66</td>\n",
       "      <td>8/29/2013 14:14</td>\n",
       "      <td>south_van_ness_at_market</td>\n",
       "      <td>66</td>\n",
       "      <td>520</td>\n",
       "      <td>Subscriber</td>\n",
       "      <td>94127</td>\n",
       "    </tr>\n",
       "    <tr>\n",
       "      <th>1</th>\n",
       "      <td>4607</td>\n",
       "      <td>70</td>\n",
       "      <td>8/29/2013 14:42</td>\n",
       "      <td>san_jose_city_hall</td>\n",
       "      <td>10</td>\n",
       "      <td>8/29/2013 14:43</td>\n",
       "      <td>san_jose_city_hall</td>\n",
       "      <td>10</td>\n",
       "      <td>661</td>\n",
       "      <td>Subscriber</td>\n",
       "      <td>95138</td>\n",
       "    </tr>\n",
       "    <tr>\n",
       "      <th>2</th>\n",
       "      <td>4130</td>\n",
       "      <td>71</td>\n",
       "      <td>8/29/2013 10:16</td>\n",
       "      <td>mountain_view_city_hall</td>\n",
       "      <td>27</td>\n",
       "      <td>8/29/2013 10:17</td>\n",
       "      <td>mountain_view_city_hall</td>\n",
       "      <td>27</td>\n",
       "      <td>48</td>\n",
       "      <td>Subscriber</td>\n",
       "      <td>97214</td>\n",
       "    </tr>\n",
       "    <tr>\n",
       "      <th>3</th>\n",
       "      <td>4251</td>\n",
       "      <td>77</td>\n",
       "      <td>8/29/2013 11:29</td>\n",
       "      <td>san_jose_city_hall</td>\n",
       "      <td>10</td>\n",
       "      <td>8/29/2013 11:30</td>\n",
       "      <td>san_jose_city_hall</td>\n",
       "      <td>10</td>\n",
       "      <td>26</td>\n",
       "      <td>Subscriber</td>\n",
       "      <td>95060</td>\n",
       "    </tr>\n",
       "    <tr>\n",
       "      <th>4</th>\n",
       "      <td>4299</td>\n",
       "      <td>83</td>\n",
       "      <td>8/29/2013 12:02</td>\n",
       "      <td>south_van_ness_at_market</td>\n",
       "      <td>66</td>\n",
       "      <td>8/29/2013 12:04</td>\n",
       "      <td>south_van_ness_at_market</td>\n",
       "      <td>67</td>\n",
       "      <td>319</td>\n",
       "      <td>Subscriber</td>\n",
       "      <td>94103</td>\n",
       "    </tr>\n",
       "  </tbody>\n",
       "</table>\n",
       "</div>"
      ],
      "text/plain": [
       "   trip_id  duration       start_date             start_station  \\\n",
       "0     4576        63  8/29/2013 14:13  south_van_ness_at_market   \n",
       "1     4607        70  8/29/2013 14:42        san_jose_city_hall   \n",
       "2     4130        71  8/29/2013 10:16   mountain_view_city_hall   \n",
       "3     4251        77  8/29/2013 11:29        san_jose_city_hall   \n",
       "4     4299        83  8/29/2013 12:02  south_van_ness_at_market   \n",
       "\n",
       "   start_terminal         end_date               end_station  end_terminal  \\\n",
       "0              66  8/29/2013 14:14  south_van_ness_at_market            66   \n",
       "1              10  8/29/2013 14:43        san_jose_city_hall            10   \n",
       "2              27  8/29/2013 10:17   mountain_view_city_hall            27   \n",
       "3              10  8/29/2013 11:30        san_jose_city_hall            10   \n",
       "4              66  8/29/2013 12:04  south_van_ness_at_market            67   \n",
       "\n",
       "   bike_num subscription_type zip_code  \n",
       "0       520        Subscriber    94127  \n",
       "1       661        Subscriber    95138  \n",
       "2        48        Subscriber    97214  \n",
       "3        26        Subscriber    95060  \n",
       "4       319        Subscriber    94103  "
      ]
     },
     "execution_count": 70,
     "metadata": {},
     "output_type": "execute_result"
    }
   ],
   "source": [
    "df.head()"
   ]
  },
  {
   "cell_type": "code",
   "execution_count": 106,
   "metadata": {},
   "outputs": [
    {
     "data": {
      "text/plain": [
       "<Axes: ylabel='Frequency'>"
      ]
     },
     "execution_count": 106,
     "metadata": {},
     "output_type": "execute_result"
    },
    {
     "data": {
      "image/png": "[encoded data removed]",
      "text/plain": [
       "<Figure size 640x480 with 1 Axes>"
      ]
     },
     "metadata": {},
     "output_type": "display_data"
    }
   ],
   "source": [
    "df.start_date = pd.to_datetime(df.start_date)\n",
    "\n",
    "\n",
    "df.start_date.dt.month.plot(kind=\"hist\")\n"
   ]
  },
  {
   "cell_type": "code",
   "execution_count": 107,
   "metadata": {},
   "outputs": [
    {
     "data": {
      "text/plain": [
       "<Axes: ylabel='Frequency'>"
      ]
     },
     "execution_count": 107,
     "metadata": {},
     "output_type": "execute_result"
    },
    {
     "data": {
      "image/png": "[encoded data removed]",
      "text/plain": [
       "<Figure size 640x480 with 1 Axes>"
      ]
     },
     "metadata": {},
     "output_type": "display_data"
    }
   ],
   "source": [
    "df.start_date.dt.year.plot(kind=\"hist\")"
   ]
  },
  {
   "cell_type": "code",
   "execution_count": 105,
   "metadata": {},
   "outputs": [
    {
     "data": {
      "text/plain": [
       "<Axes: ylabel='Frequency'>"
      ]
     },
     "execution_count": 105,
     "metadata": {},
     "output_type": "execute_result"
    },
    {
     "data": {
      "image/png": "[encoded data removed]",
      "text/plain": [
       "<Figure size 640x480 with 1 Axes>"
      ]
     },
     "metadata": {},
     "output_type": "display_data"
    }
   ],
   "source": [
    "df.start_date.dt.hour.plot(kind=\"hist\")"
   ]
  },
  {
   "cell_type": "code",
   "execution_count": null,
   "metadata": {},
   "outputs": [],
   "source": []
  }
 ],
 "metadata": {
  "kernelspec": {
   "display_name": "Python 3.9.8 ('.pandas-numpy': venv)",
   "language": "python",
   "name": "python3"
  },
  "language_info": {
   "codemirror_mode": {
    "name": "ipython",
    "version": 3
   },
   "file_extension": ".py",
   "mimetype": "text/x-python",
   "name": "python",
   "nbconvert_exporter": "python",
   "pygments_lexer": "ipython3",
   "version": "3.11.3"
  },
  "vscode": {
   "interpreter": {
    "hash": "74c6cb286e0ae01e6e36d62f264b80149270f9e729c4f678639691c812c01bcf"
   }
  }
 },
 "nbformat": 4,
 "nbformat_minor": 4
}
