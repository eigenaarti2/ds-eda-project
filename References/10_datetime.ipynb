{
 "cells": [
  {
   "attachments": {},
   "cell_type": "markdown",
   "id": "2b43f229",
   "metadata": {},
   "source": [
    "# Datetime variables in Python and pandas"
   ]
  },
  {
   "attachments": {},
   "cell_type": "markdown",
   "id": "c4b139e0",
   "metadata": {},
   "source": [
    "Date and time features are important for data science problems in various industries, from sales, marketing, and finance to HR, e-commerce, retail, and many more. Predicting how the stock markets will behave tomorrow, how many products will be sold in the upcoming week, when is the best time to launch a new product, how long before a position at the company gets filled, etc. are some of the problems that we can find answers to using date and time data.\n",
    "\n",
    "This incredible amount of insight that you can unravel from the data is what makes date and time components so fun to work with! So let’s get down to the business of mastering date-time manipulation in Python.\n",
    "\n",
    "But in many cases dates and time are not in the right format and the information in those variables can't be worked with until it is transformed.\n",
    "\n",
    "In the following notebook you will learn how to work with dates and time in `Python` and `pandas`."
   ]
  },
  {
   "cell_type": "code",
   "execution_count": null,
   "id": "aea5d766",
   "metadata": {},
   "outputs": [],
   "source": [
    "import pandas as pd\n",
    "from datetime import datetime, date, time, timedelta"
   ]
  },
  {
   "attachments": {},
   "cell_type": "markdown",
   "id": "da44b13b",
   "metadata": {},
   "source": [
    "### Python Datetime Module"
   ]
  },
  {
   "attachments": {},
   "cell_type": "markdown",
   "id": "0c7b8528",
   "metadata": {},
   "source": [
    "First, we will have a look at the datetime module of Python. Let's start simple. We will look at the basics of the module and how to define dates and time."
   ]
  },
  {
   "cell_type": "code",
   "execution_count": null,
   "id": "3d206cb5",
   "metadata": {},
   "outputs": [],
   "source": [
    "# We create a date variable for a random date with the datetime module and as a string…\n",
    "d1 = date(2021, 5, 14)\n",
    "d2 = '2021-05-14'\n",
    "\n",
    "# …and print out the variables. Do you see any differences?\n",
    "print(d1)\n",
    "print(d2)"
   ]
  },
  {
   "cell_type": "code",
   "execution_count": null,
   "id": "610d1f26",
   "metadata": {},
   "outputs": [],
   "source": [
    "# If we have a look at the types of those two variables we can see that there is a difference.\n",
    "print(type(d1))\n",
    "print(type(d2))"
   ]
  },
  {
   "cell_type": "code",
   "execution_count": null,
   "id": "68b34249",
   "metadata": {},
   "outputs": [],
   "source": [
    "# You can also easily create a variable with the date of today.\n",
    "d3 = date.today()\n",
    "print('Date of today: ',d3)\n",
    "\n",
    "# You can print the day…\n",
    "print('Day: ', d3.day)\n",
    "\n",
    "# …or month…\n",
    "print('Month: ', d3.month)\n",
    "\n",
    "# …or year.\n",
    "print('Year: ', d3.year)"
   ]
  },
  {
   "cell_type": "code",
   "execution_count": null,
   "id": "c8f52dc4",
   "metadata": {},
   "outputs": [],
   "source": [
    "# The same applies to the time method.\n",
    "t1 = time(13, 20, 13, 40)\n",
    "t2 = '13:20:13.000040'\n",
    "print(t1)\n",
    "print(t2)\n",
    "print(type(t1))\n",
    "print(type(t2))"
   ]
  },
  {
   "cell_type": "code",
   "execution_count": null,
   "id": "adb1653f",
   "metadata": {},
   "outputs": [],
   "source": [
    "# You can print the hour…\n",
    "print('Hour :',t1.hour)\n",
    "\n",
    "# …or minute…\n",
    "print('Minute :',t1.minute)\n",
    "\n",
    "# …or second…\n",
    "print('Second :',t1.second)\n",
    "\n",
    "# …and even the microseconds.\n",
    "print('Microsecond :',t1.microsecond)"
   ]
  },
  {
   "attachments": {},
   "cell_type": "markdown",
   "id": "fec850fd",
   "metadata": {},
   "source": [
    "Above we looked at the date and time separately with the `date` and `time` methods. But we can also combine both with the `datetime` method."
   ]
  },
  {
   "cell_type": "code",
   "execution_count": null,
   "id": "151859d6",
   "metadata": {},
   "outputs": [],
   "source": [
    "# We create a variable with a random date and time with the datetime method…\n",
    "dt1 = datetime(2021, 5, 14, 11, 20, 30, 40)\n",
    "\n",
    "# …and print it.\n",
    "print(dt1)\n",
    "print(type(dt1))"
   ]
  },
  {
   "cell_type": "code",
   "execution_count": null,
   "id": "33f5edf2",
   "metadata": {},
   "outputs": [],
   "source": [
    "# You can also create a variable with your local date-time.\n",
    "dt2 = datetime.now()\n",
    "dt2"
   ]
  },
  {
   "cell_type": "markdown",
   "id": "07bbd95d",
   "metadata": {},
   "source": [
    "One really cool thing you can do with the DateTime function is to extract the day of the week! This is especially helpful in feature engineering because the value of the target variable can be dependent on the day of the week, like sales of a product are generally higher on a weekend or traffic on StackOverflow could be higher on a weekday when people are working, etc.\n",
    "\n",
    ">Note: `.weekday` returns the day of the week starting with 0 for Monday and ending with 6 for Sunday. `.isoweekday` on the other hand returns the day of the week where Monday is 1 and Sunday is 7."
   ]
  },
  {
   "cell_type": "code",
   "execution_count": null,
   "id": "d50ee033",
   "metadata": {},
   "outputs": [],
   "source": [
    "# We can define the date of today…\n",
    "dt2 = datetime.now()\n",
    "\n",
    "# …and print the weekday where Monday is 0…\n",
    "print(dt2.weekday()) # outputs e.g. 3 for Thursday\n",
    "\n",
    "# …or where Monday is 1.\n",
    "print(dt2.isoweekday()) # outputs 4 in ISO format"
   ]
  },
  {
   "cell_type": "markdown",
   "id": "aafcf069",
   "metadata": {},
   "source": [
    "Another very important feature that you can generate from the given date in a dataset is the week of the year."
   ]
  },
  {
   "cell_type": "code",
   "execution_count": null,
   "id": "ef3c5320",
   "metadata": {},
   "outputs": [],
   "source": [
    "# We can define the date of today…\n",
    "dt2 = datetime.now()\n",
    "\n",
    "# …and return the year, week and weekday. \n",
    "print('Date:', dt2.isocalendar())\n",
    "print('Week :', dt2.isocalendar()[1])"
   ]
  },
  {
   "attachments": {},
   "cell_type": "markdown",
   "id": "05a6b989",
   "metadata": {},
   "source": [
    "### Formatting the dates with `strptime` and `strftime`"
   ]
  },
  {
   "attachments": {},
   "cell_type": "markdown",
   "id": "501bf001",
   "metadata": {},
   "source": [
    "As we saw in the first example, you have to pay attention to the type of the data. The date in datasets often is of type string. So how can we change that?\n",
    "\n",
    "- `strptime`: creates a `datetime` object from a string representing date and time. It takes two arguments: the date and the format in which your date is present.\n",
    "- `strftime`: can be used to convert the `datetime` object into a string representing date and time.\n"
   ]
  },
  {
   "attachments": {},
   "cell_type": "markdown",
   "id": "7e4cdb3d",
   "metadata": {},
   "source": [
    "The following table shows several format codes that can be used to specify a date or time format. \n",
    "\n",
    "\n",
    "| Directive | Meaning | Example |\n",
    "|:- | :-:| -:|\n",
    "| %a | Abbreviated weekday name. | Sun, Mon, ...|\n",
    "| %A | Full weekday name. | Sunday, Monday, ... |\n",
    "| %w |\tWeekday as a decimal number. |\t0, 1, ..., 6 |\n",
    "| %d |\tDay of the month as a zero-padded decimal. |\t01, 02, ..., 31 |\n",
    "| %-d |\tDay of the month as a decimal number.|\t1, 2, ..., 30|\n",
    "| %b |\tAbbreviated month name.|\tJan, Feb, ..., Dec|\n",
    "| %B |\tFull month name.|\tJanuary, February, ...|\n",
    "| %m |\tMonth as a zero-padded decimal number.|\t01, 02, ..., 12|\n",
    "| %-m |\tMonth as a decimal number.|\t1, 2, ..., 12|\n",
    "| %y |\tYear without century as a zero-padded decimal number.|\t00, 01, ..., 99|\n",
    "| %-y |\tYear without century as a decimal number.|\t0, 1, ..., 99|\n",
    "| %Y |\tYear with century as a decimal number.|\t2013, 2019 etc.|\n",
    "| %H |\tHour (24-hour clock) as a zero-padded decimal number.|\t00, 01, ..., 23|\n",
    "| %-H |\tHour (24-hour clock) as a decimal number.|\t0, 1, ..., 23|\n",
    "| %I |\tHour (12-hour clock) as a zero-padded decimal number.|\t01, 02, ..., 12|\n",
    "| %-I |\tHour (12-hour clock) as a decimal number.|\t1, 2, ... 12|\n",
    "| %p|\tLocale’s AM or PM.|\tAM, PM|\n",
    "| %M|\tMinute as a zero-padded decimal number.|\t00, 01, ..., 59|\n",
    "| %-M|\tMinute as a decimal number.|\t0, 1, ..., 59|\n",
    "| %S|\tSecond as a zero-padded decimal number.|\t00, 01, ..., 59|\n",
    "| %-S|\tSecond as a decimal number.|\t0, 1, ..., 59|\n",
    "| %f|\tMicrosecond as a decimal number, zero-padded on the left.|\t000000 - 999999|\n",
    "| %z|\tUTC offset in the form +HHMM or -HHMM.|\t| \n",
    "| %Z|\tTime zone name.|\t |\n",
    "| %j|\tDay of the year as a zero-padded decimal number.|\t001, 002, ..., 366|\n",
    "| %-j|\tDay of the year as a decimal number.|\t1, 2, ..., 366|\n",
    "| %U|\tWeek number of the year (Sunday as the first day of the week). All days in a new year preceding the first Sunday are considered to be in week 0.|\t00, 01, ..., 53|\n",
    "| %W|\tWeek number of the year (Monday as the first day of the week). All days in a new year preceding the first Monday are considered to be in week 0.|\t00, 01, ..., 53|\n",
    "| %c|\tLocale’s appropriate date and time representation.|\tMon Sep 30 07:06:05 2013|\n",
    "| %x|\tLocale’s appropriate date representation.|\t09/30/13|\n",
    "| %X|\tLocale’s appropriate time representation.|\t07:06:05|\n",
    "| %%|\tA literal '%' character.|\t%|"
   ]
  },
  {
   "attachments": {},
   "cell_type": "markdown",
   "id": "5b5fc75e",
   "metadata": {},
   "source": [
    "#### Strptime"
   ]
  },
  {
   "attachments": {},
   "cell_type": "markdown",
   "id": "4433a581",
   "metadata": {},
   "source": [
    "With `strptime` and the right combination of the format codes (see list above) you can convert a string into a datetime type: "
   ]
  },
  {
   "cell_type": "code",
   "execution_count": null,
   "id": "b10aee1d",
   "metadata": {},
   "outputs": [],
   "source": [
    "# Create a variable with a datetime stored as string…\n",
    "date = '22 April, 2020 13:20:13'\n",
    "\n",
    "# …and convert the string to datetime type.\n",
    "d1 = datetime.strptime(date,'%d %B, %Y %H:%M:%S')\n",
    "print(d1)\n",
    "print(type(d1))"
   ]
  },
  {
   "cell_type": "code",
   "execution_count": null,
   "id": "2dab4273",
   "metadata": {},
   "outputs": [],
   "source": [
    "# We can create a date stored as string…\n",
    "date = '2021-05-14'\n",
    "print(date)\n",
    "print(type(date))\n",
    "\n",
    "# …and convert the string to datetime…\n",
    "d2 = datetime.strptime(date, '%Y-%m-%d')\n",
    "print(d2)\n",
    "print(type(d2))\n",
    "\n",
    "# …or convert the string to date format. \n",
    "d2 = datetime.strptime(date, '%Y-%m-%d').date()\n",
    "print(d2)\n",
    "print(type(d2))"
   ]
  },
  {
   "attachments": {},
   "cell_type": "markdown",
   "id": "75d6587a",
   "metadata": {},
   "source": [
    "#### Strftime"
   ]
  },
  {
   "attachments": {},
   "cell_type": "markdown",
   "id": "7d22ed17",
   "metadata": {},
   "source": [
    "\n",
    "If we want to convert a `datetime` variable into a string we can use `.strftime` and the right combination of format codes:"
   ]
  },
  {
   "cell_type": "code",
   "execution_count": null,
   "id": "a659b13f",
   "metadata": {},
   "outputs": [],
   "source": [
    "# Create a datetime variable…\n",
    "d1 = datetime.now()\n",
    "print('Datetime object :',d1)\n",
    "\n",
    "# …and convert it into a string.\n",
    "new_date = d1.strftime('%d/%m/%Y %H:%M')\n",
    "print('Formatted date :',new_date)\n",
    "print(type(new_date))"
   ]
  },
  {
   "attachments": {},
   "cell_type": "markdown",
   "id": "7e2df77b",
   "metadata": {},
   "source": [
    "### Calculating with the datetime module"
   ]
  },
  {
   "attachments": {},
   "cell_type": "markdown",
   "id": "cadf352c",
   "metadata": {},
   "source": [
    "Sometimes, you might have to find the time span between two dates, which can be another very useful feature that you can derive from a dataset. By subtracting one date from another you will get a `timedelta`. "
   ]
  },
  {
   "cell_type": "code",
   "execution_count": null,
   "id": "9bb1ada7",
   "metadata": {},
   "outputs": [],
   "source": [
    "# timedelta : duration between dates\n",
    "d1 = datetime(2020,4,23,11,13,10)\n",
    "d2 = datetime(2021,4,23,12,13,10)\n",
    "duration = d2 - d1\n",
    "print(type(duration))\n",
    "duration"
   ]
  },
  {
   "cell_type": "markdown",
   "id": "d559fa9a",
   "metadata": {},
   "source": [
    "As you can see, the duration is returned as the number of days for the date and seconds for the time between the dates. So for your features you can also retrieve those values separately:"
   ]
  },
  {
   "cell_type": "code",
   "execution_count": null,
   "id": "16227852",
   "metadata": {},
   "outputs": [],
   "source": [
    "print('Duration:', duration)\n",
    "print('Days:', duration.days) # 365\n",
    "print('Seconds:' ,duration.seconds) # 3600"
   ]
  },
  {
   "cell_type": "markdown",
   "id": "51260cc3",
   "metadata": {},
   "source": [
    "But what if you actually need the duration in hours or minutes? Well, there is a simple solution for that.\n",
    "\n",
    "`timedelta` is also a class in the `datetime` module. So, you can use it to convert your duration into hours and minutes as the following code shows:"
   ]
  },
  {
   "cell_type": "code",
   "execution_count": null,
   "id": "32bdfa31",
   "metadata": {},
   "outputs": [],
   "source": [
    "# duration in hours\n",
    "print('Duration in hours :', duration / timedelta(hours = 1))\n",
    "\n",
    "# duration in minutes\n",
    "print('Duration in minutes :', duration / timedelta(minutes = 1))\n",
    "\n",
    "# duration in seconds\n",
    "print('Duration in seconds :', duration / timedelta(seconds = 1))"
   ]
  },
  {
   "cell_type": "markdown",
   "id": "a3530934",
   "metadata": {},
   "source": [
    "`timedelta` also makes it possible to add and subtract integers from a `datetime` object."
   ]
  },
  {
   "cell_type": "code",
   "execution_count": null,
   "id": "6e6cb871",
   "metadata": {},
   "outputs": [],
   "source": [
    "# Create datetime variable for current date…\n",
    "d1 = datetime.now().date()\n",
    "print(\"Today's date :\",d1)\n",
    "\n",
    "# …and add two days…\n",
    "d2 = d1+timedelta(days=2)\n",
    "print(\"Date 2 days from today :\",d2)\n",
    "\n",
    "# …or add two weeks.\n",
    "d3 = d1+timedelta(weeks=2)\n",
    "print(\"Date 2 weeks from today :\",d3)"
   ]
  },
  {
   "attachments": {},
   "cell_type": "markdown",
   "id": "1db99c00",
   "metadata": {},
   "source": [
    "## DateTime in pandas"
   ]
  },
  {
   "attachments": {},
   "cell_type": "markdown",
   "id": "0081b99a",
   "metadata": {},
   "source": [
    "We already know that pandas is a great library for doing data analysis tasks. And so it goes without saying that pandas also supports Python DateTime objects. It has some great methods for handling dates and times, such as `to_datetime()` and `to_timedelta()`."
   ]
  },
  {
   "cell_type": "code",
   "execution_count": null,
   "id": "12e7a0db",
   "metadata": {},
   "outputs": [],
   "source": [
    "# Define a date using .to_datetime()\n",
    "date = pd.to_datetime('24th of April, 2020')\n",
    "print(date)\n",
    "print(type(date))"
   ]
  },
  {
   "attachments": {},
   "cell_type": "markdown",
   "id": "79f07af6",
   "metadata": {},
   "source": [
    "You might have noticed something strange here. The type of the object returned by `.to_datetime()` is not DateTime but Timestamp. Well, don’t worry, it is just the pandas equivalent of Python’s DateTime.\n",
    "\n",
    "We already know that timedelta gives differences in times. The pandas `.to_timedelta()` method does the same:"
   ]
  },
  {
   "cell_type": "code",
   "execution_count": null,
   "id": "2d6a02b5",
   "metadata": {},
   "outputs": [],
   "source": [
    "# Define and print a variable with the current date and time…\n",
    "date = datetime.now()\n",
    "print(date)\n",
    "\n",
    "# …and print the date of tomorrow…\n",
    "print(date + pd.to_timedelta(1, unit = 'D'))\n",
    "\n",
    "# …and next week.\n",
    "print(date + pd.to_timedelta(1, unit = 'W'))"
   ]
  },
  {
   "attachments": {},
   "cell_type": "markdown",
   "id": "e6f4a18c",
   "metadata": {},
   "source": [
    "### Date Range in pandas"
   ]
  },
  {
   "attachments": {},
   "cell_type": "markdown",
   "id": "98b67cdf",
   "metadata": {},
   "source": [
    "To make the creation of date sequences a convenient task, pandas provides the `.date_range()` method. It accepts a start date, an end date, and an optional frequency code:"
   ]
  },
  {
   "cell_type": "code",
   "execution_count": null,
   "id": "e97f392b",
   "metadata": {},
   "outputs": [],
   "source": [
    "# Create a range of dates for 1 month\n",
    "pd.date_range(start='24/4/2020', end='24/5/2020', freq='D')"
   ]
  },
  {
   "cell_type": "markdown",
   "id": "fdfce424",
   "metadata": {},
   "source": [
    "Instead of defining the end date, you could also define the period or number of time periods you want to generate: [See here for a list of frequency aliases.]( https://pandas.pydata.org/docs/user_guide/timeseries.html#timeseries-offset-aliases)"
   ]
  },
  {
   "cell_type": "code",
   "execution_count": null,
   "id": "9916c41f",
   "metadata": {},
   "outputs": [],
   "source": [
    "# Define variable with date of today…\n",
    "start_date = datetime.today()\n",
    "\n",
    "# …and create sequence with consecutive minutes…  \n",
    "dates_start = pd.date_range(start=start_date, periods=10, freq='T')\n",
    "dates_start"
   ]
  },
  {
   "cell_type": "code",
   "execution_count": null,
   "id": "edd6c143",
   "metadata": {},
   "outputs": [],
   "source": [
    "# …or consecutive days. \n",
    "dates_end = pd.date_range(start=start_date, periods=10, freq='D')\n",
    "dates_end"
   ]
  },
  {
   "attachments": {},
   "cell_type": "markdown",
   "id": "933cab5d",
   "metadata": {},
   "source": [
    "Let's have a look at how to create new features out of `datetime/timestamp` columns in a pandas DataFrame. Therefore, we will create a little DataFrame which contains the `start_date` and `end_date` (see cells above) as features and a target column with three different classes. "
   ]
  },
  {
   "cell_type": "code",
   "execution_count": null,
   "id": "f99dff07",
   "metadata": {},
   "outputs": [],
   "source": [
    "# Create target column with random classes (1, 2 or 3)\n",
    "import random\n",
    "randomList = []\n",
    "for i in range(10):\n",
    "    randomList.append(random.randint(1,3))\n",
    "\n",
    "# Create DataFrame out of previously defined variables\n",
    "df = pd.DataFrame()\n",
    "df['Start_date'] = dates_start\n",
    "df['End_date'] = dates_end\n",
    "df['Target'] = randomList\n",
    "\n",
    "# Show first 5 rows \n",
    "df.head()"
   ]
  },
  {
   "cell_type": "code",
   "execution_count": null,
   "id": "b46f8862",
   "metadata": {},
   "outputs": [],
   "source": [
    "# The elements in the date columns are still timestamps \n",
    "print(df.Start_date[0])\n",
    "print(type(df.Start_date[0]))"
   ]
  },
  {
   "cell_type": "markdown",
   "id": "96810709",
   "metadata": {},
   "source": [
    "We can create multiple new features from the date column, like the day, month, year, hour, minute, etc. using the `dt` attribute. For example, let's create a new column containing the information about the day of our `end_date` column."
   ]
  },
  {
   "cell_type": "code",
   "execution_count": null,
   "id": "5de457a6",
   "metadata": {},
   "outputs": [],
   "source": [
    "# Create new column with day of end_date column\n",
    "df['Day_of_end_date'] = df['End_date'].dt.day\n",
    "df.head(10)"
   ]
  },
  {
   "cell_type": "code",
   "execution_count": null,
   "id": "de2b0516",
   "metadata": {},
   "outputs": [],
   "source": [
    "# Create new column for year of start_date column\n",
    "df['Year_of_start_date'] = df['Start_date'].dt.year\n",
    "df.head()"
   ]
  },
  {
   "attachments": {},
   "cell_type": "markdown",
   "id": "7e63927d",
   "metadata": {},
   "source": [
    "## Exercise: "
   ]
  },
  {
   "attachments": {},
   "cell_type": "markdown",
   "id": "cc4998fd",
   "metadata": {},
   "source": [
    "Create at least two more features for example `month`, `hour` or `minute` etc. from the start and end date columns."
   ]
  },
  {
   "cell_type": "code",
   "execution_count": null,
   "id": "7f7fa595",
   "metadata": {},
   "outputs": [],
   "source": [
    "# Your code here!\n",
    "df['Month_of_start_date'] = df['Start_date'].dt.month\n",
    "df.head()"
   ]
  },
  {
   "cell_type": "code",
   "execution_count": null,
   "id": "831d84a9",
   "metadata": {},
   "outputs": [],
   "source": [
    "# Your code here!\n",
    "df['Minute_of_end_date'] = df['End_date'].dt.minute\n",
    "df.head()"
   ]
  },
  {
   "attachments": {},
   "cell_type": "markdown",
   "id": "db50d32e",
   "metadata": {},
   "source": [
    "## Working with dates on a real dataset"
   ]
  },
  {
   "attachments": {},
   "cell_type": "markdown",
   "id": "e525020e",
   "metadata": {},
   "source": [
    "At the end of this notebook we will have a quick look at a real dataset with weather information for the city of Seattle. You will see that the first column contains information about the date of the measurements. While importing the dataset this column is loaded as a object/string type column and we want to convert it before we start our analysis. "
   ]
  },
  {
   "cell_type": "code",
   "execution_count": null,
   "id": "b1b071e7",
   "metadata": {},
   "outputs": [],
   "source": [
    "# Loading the dataset\n",
    "df = pd.read_csv(\"data/seattle-weather.csv\")"
   ]
  },
  {
   "cell_type": "code",
   "execution_count": null,
   "id": "cb4367ed",
   "metadata": {},
   "outputs": [],
   "source": [
    "# Check if the data is loaded correctly\n",
    "df.head()"
   ]
  },
  {
   "cell_type": "code",
   "execution_count": null,
   "id": "e0f11a37",
   "metadata": {},
   "outputs": [],
   "source": [
    "# Check column types \n",
    "df.info()"
   ]
  },
  {
   "cell_type": "code",
   "execution_count": null,
   "id": "64503eb0",
   "metadata": {},
   "outputs": [],
   "source": [
    "print(df.date[0])\n",
    "print(type(df.date[0]))"
   ]
  },
  {
   "cell_type": "markdown",
   "id": "19ce6af2",
   "metadata": {},
   "source": [
    "From the output of `df.info()` and the two print statements above we can see that the date column is loaded as object/string. \n",
    "In order to facilitate working with the date column we can change the type using `.to_datetime()`:"
   ]
  },
  {
   "cell_type": "code",
   "execution_count": null,
   "id": "5a540621",
   "metadata": {},
   "outputs": [],
   "source": [
    "# Replace original column with converted one \n",
    "df.date = pd.to_datetime(df.date, format='%Y/%m/%d')"
   ]
  },
  {
   "cell_type": "code",
   "execution_count": null,
   "id": "69b46abe",
   "metadata": {},
   "outputs": [],
   "source": [
    "df.head()"
   ]
  },
  {
   "cell_type": "code",
   "execution_count": null,
   "id": "e71203bf",
   "metadata": {},
   "outputs": [],
   "source": [
    "df.info()"
   ]
  },
  {
   "cell_type": "code",
   "execution_count": null,
   "id": "2ea5e99b",
   "metadata": {},
   "outputs": [],
   "source": [
    "print(df.date[0])\n",
    "print(type(df.date[0]))"
   ]
  },
  {
   "attachments": {},
   "cell_type": "markdown",
   "id": "b1d00392",
   "metadata": {},
   "source": [
    "And now the date column is correctly defined as datetime."
   ]
  },
  {
   "attachments": {},
   "cell_type": "markdown",
   "id": "59044354",
   "metadata": {},
   "source": [
    "## Summary"
   ]
  },
  {
   "attachments": {},
   "cell_type": "markdown",
   "id": "0a162a7a",
   "metadata": {},
   "source": [
    "In addition to strings, floats and integers, there is another data type specific to dates and time (datetime).\n",
    "If you are dealing with time-dependent data, it is worth to convert them into the correct datetime format.\n",
    "This ensures that\n",
    "- it's easy to choose the desired format of the date (e.g. YY-MM-DD)\n",
    "- durations are calculated correctly\n",
    "- durations can be displayed in different time units easily (e.g. in hours or days)\n",
    "- additional features can be easily created (e.g. what day of the week it is)\n",
    "- visualization tools can recognize variables correctly and display them well (axis labeling).\n"
   ]
  }
 ],
 "metadata": {
  "kernelspec": {
   "display_name": "Python 3.9.8 ('.pandas-numpy': venv)",
   "language": "python",
   "name": "python3"
  },
  "language_info": {
   "codemirror_mode": {
    "name": "ipython",
    "version": 3
   },
   "file_extension": ".py",
   "mimetype": "text/x-python",
   "name": "python",
   "nbconvert_exporter": "python",
   "pygments_lexer": "ipython3",
   "version": "3.11.3"
  },
  "vscode": {
   "interpreter": {
    "hash": "74c6cb286e0ae01e6e36d62f264b80149270f9e729c4f678639691c812c01bcf"
   }
  }
 },
 "nbformat": 4,
 "nbformat_minor": 5
}
