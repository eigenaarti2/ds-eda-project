{
 "cells": [
  {
   "cell_type": "markdown",
   "metadata": {},
   "source": [
    "# Visualisation Group Work"
   ]
  },
  {
   "cell_type": "markdown",
   "metadata": {},
   "source": [
    "You can use this notebook as a template and add your plots in the cells below. We've already added some code to import the necessary packages and included an example plot to show you how a good plot might look like. \n",
    "\n",
    "Now it's you your turn to create your first plots with Python's plotting libraries. At the end of this exercise your notebook should contain one plot per library. Since you will share your notebook with the other groups, make sure to add comments so it's easy for them to understand your code. \n",
    "\n",
    "Your group number will tell you which kind of plot and data set you should use for the exercise. \n",
    "\n",
    "| Group | Plot | Dataset | \n",
    "|-------|------|---------|\n",
    "|  1 | Scatterplot | Seattle Weather |\n",
    "|  2 | Lineplot | Seattle Weather | \n",
    "|  3 | Barchart | Seattle Weather  | \n",
    "|  4 | Geographical Maps | Airports |  \n",
    "\n"
   ]
  },
  {
   "cell_type": "markdown",
   "metadata": {},
   "source": [
    "## What makes a plot good?\n",
    "\n",
    "For this exercise the charts do not have to be particularly fancy or provide mind-blowing insights into the data, but they should contain all the elements that make a good plot.\n",
    "Take the following plot as an example:\n",
    "\n",
    "![example_plot](image/example_plot.png)\n",
    "\n",
    "Like the plot above your figures should have/be...\n",
    "1. ... a meaningful title.\n",
    "2. ... labels (with units when necessary) on both axis. \n",
    "3. ... a legend (if necessary). Make sure it doesn't overlap other important elements.\n",
    "3. ... text that is easliy readable. You can change and increase the font size, rotate tick labels, flip axis etc. to improve readabilty. \n",
    "4. ... not overloaded with information. Try to keep it rather clean and simple."
   ]
  },
  {
   "cell_type": "code",
   "execution_count": null,
   "metadata": {},
   "outputs": [],
   "source": [
    "# Import necessary libraries\n",
    "import pandas as pd\n",
    "import numpy as np\n",
    "\n",
    "import matplotlib.pyplot as plt\n",
    "import seaborn as sns\n",
    "import plotly.express as px\n",
    "import altair as alt"
   ]
  },
  {
   "cell_type": "markdown",
   "metadata": {},
   "source": [
    "## Import Data\n",
    "Start by importing the data. We added some lines of code for the groups that work with the seattle weather data to help you get started. Depending on how you name your dataframe, you might have to slightly adjust the code in the cell below."
   ]
  },
  {
   "cell_type": "code",
   "execution_count": null,
   "metadata": {},
   "outputs": [],
   "source": [
    "# Import data\n",
    "df_weather = pd.read_csv(\"data_group_work/seattle-weather.csv\")"
   ]
  },
  {
   "cell_type": "code",
   "execution_count": null,
   "metadata": {},
   "outputs": [],
   "source": [
    "# You might have to adjust the code in this cell if you named your dataframe differently\n",
    "# Convert date to datetime format\n",
    "df_weather.date = pd.to_datetime(df_weather.date)\n",
    "\n",
    "# Create new column for year, month, day\n",
    "df_weather[\"year\"] = df_weather.date.dt.year\n",
    "df_weather[\"month\"] = df_weather[\"date\"].dt.month\n",
    "df_weather[\"day\"] = df_weather[\"date\"].dt.day\n",
    "\n",
    "# Create new columns for extreme weather (98 % quantiles)\n",
    "df_weather[\"ex_precipitation\"] = (\n",
    "    df_weather.precipitation > df_weather.precipitation.quantile(q=0.98)\n",
    ")\n",
    "df_weather[\"ex_wind\"] = df_weather.wind > df_weather.wind.quantile(q=0.98)\n",
    "df_weather[\"ex_temp_max\"] = df_weather.temp_max > df_weather.temp_max.quantile(q=0.98)\n",
    "df_weather[\"ex_temp_min\"] = df_weather.temp_min > df_weather.temp_min.quantile(q=0.02)\n",
    "\n",
    "# Combine extreme weather in one column (rain and wind)\n",
    "df_weather[\"ex_p_w\"] = np.logical_or(df_weather.ex_precipitation, df_weather.ex_wind)\n",
    "\n",
    "# Create new column month; remove string column \"weather\"\n",
    "df_avg = df_weather.drop(\n",
    "    [\n",
    "        \"weather\",\n",
    "        \"date\",\n",
    "        \"year\",\n",
    "        \"day\",\n",
    "        \"ex_precipitation\",\n",
    "        \"ex_wind\",\n",
    "        \"ex_temp_max\",\n",
    "        \"ex_temp_min\",\n",
    "        \"ex_p_w\",\n",
    "    ],\n",
    "    axis=1,\n",
    ")\n",
    "df_avg = df_avg.groupby(\"month\").mean()\n",
    "df_avg[\"month\"] = df_avg.index"
   ]
  },
  {
   "cell_type": "code",
   "execution_count": null,
   "metadata": {},
   "outputs": [],
   "source": [
    "df_weather.head()"
   ]
  },
  {
   "cell_type": "code",
   "execution_count": null,
   "metadata": {},
   "outputs": [],
   "source": [
    "df_avg.head()"
   ]
  },
  {
   "cell_type": "markdown",
   "metadata": {},
   "source": [
    "## 1. Matplotlib"
   ]
  },
  {
   "cell_type": "code",
   "execution_count": null,
   "metadata": {},
   "outputs": [],
   "source": [
    "# Monthly average rain/snow in Seattle from years 2012-2015\n",
    "\n",
    "# select style\n",
    "plt.style.use(\"default\")\n",
    "\n",
    "# create subplot with 2 rows and 1 column\n",
    "fig, ax = plt.subplots(2, 1, figsize=(4.5, 7.5))\n",
    "fig.tight_layout(pad=2)\n",
    "\n",
    "fig.suptitle(\n",
    "    \"Mean Precipitation and Temperature in Seattle (2012 - 2015)\",\n",
    ")\n",
    "\n",
    "ax[0].scatter(df_avg[\"month\"], df_avg[\"precipitation\"], color=\"steelblue\")\n",
    "ax[0].set(ylabel=\"Mean Precipitation (mm)\", xlabel=\"\")\n",
    "\n",
    "\n",
    "ax[1].scatter(df_avg[\"month\"], df_avg[\"temp_max\"], color=\"coral\", label=\"max\")\n",
    "ax[1].set(ylabel=\"Mean Temperature (°C)\", xlabel=\"Month\")\n",
    "ax[1].scatter(df_avg[\"month\"], df_avg[\"temp_min\"], color=\"cornflowerblue\", label=\"min\")\n",
    "ax[1].legend(\n",
    "    loc=\"upper left\", bbox_to_anchor=(1, 0.6), frameon=False, title=\"Temperature\"\n",
    ")\n",
    "plt.show()"
   ]
  },
  {
   "cell_type": "markdown",
   "metadata": {},
   "source": [
    "## 2. Seaborn"
   ]
  },
  {
   "cell_type": "code",
   "execution_count": null,
   "metadata": {},
   "outputs": [],
   "source": [
    "# Extreme weather in Seattle defined by rain or wind\n",
    "\n",
    "# select style\n",
    "sns.set_style(\"white\")\n",
    "plt.style.use(\"fivethirtyeight\")\n",
    "# plot\n",
    "fig = sns.scatterplot(\n",
    "    data=df_weather,\n",
    "    x=\"date\",\n",
    "    y=\"precipitation\",\n",
    "    palette=\"Blues\",\n",
    "    size=\"wind\",\n",
    "    hue=\"ex_p_w\",\n",
    "    alpha=0.5,\n",
    "    sizes=(1, 100),\n",
    "    legend=\"brief\",\n",
    ")\n",
    "\n",
    "# adjust aesthetics\n",
    "## rotate x axis labels\n",
    "plt.xticks(rotation=20)\n",
    "## adjust figure title and x and y axis labels\n",
    "fig.set(\n",
    "    title=\"Extreme Weather in Seattle (2012 - 2015)\",\n",
    "    xlabel=\"Date\",\n",
    "    ylabel=\"Precipitation (mm)\",\n",
    ")\n",
    "\n",
    "## Override legend subtitles and labels\n",
    "handles, previous_labels = fig.get_legend_handles_labels()\n",
    "fig.legend(\n",
    "    handles=handles,\n",
    "    labels=[\"Extreme Weather\", \"False\", \"True\", \"Wind\", \"2\", \"4\", \"6\", \"8\"],\n",
    ")\n",
    "\n",
    "## move legend outside of plot, remove frame\n",
    "sns.move_legend(fig, \"upper left\", bbox_to_anchor=(1, 0.75), frameon=False)\n",
    "\n",
    "plt.show()"
   ]
  },
  {
   "cell_type": "code",
   "execution_count": null,
   "metadata": {},
   "outputs": [],
   "source": [
    "# Extreme weather dates by rain\n",
    "\n",
    "# select style\n",
    "sns.set_style(\"white\")\n",
    "plt.style.use(\"fivethirtyeight\")\n",
    "\n",
    "# define color palette\n",
    "colors = {\n",
    "    False: \"#1f77b4\",\n",
    "    True: \"#9467bd\",\n",
    "}\n",
    "\n",
    "# plot\n",
    "ax = sns.scatterplot(\n",
    "    data=df_weather,\n",
    "    x=\"date\",\n",
    "    y=\"temp_max\",\n",
    "    hue=\"ex_temp_max\",\n",
    "    alpha=0.3,\n",
    "    sizes=(1, 100),\n",
    "    legend=False,\n",
    "    palette=colors,\n",
    ")\n",
    "\n",
    "# adjust aesthetics\n",
    "## rotate x axis labels\n",
    "plt.xticks(rotation=20)\n",
    "## adjust figure title and x and y axis labels\n",
    "ax.set(\n",
    "    title=\"High Temperature in Seattle (2012 - 2015)\",\n",
    "    xlabel=\"Date\",\n",
    "    ylabel=\"Temperature (°C)\",\n",
    ")\n",
    "\n",
    "plt.show()"
   ]
  },
  {
   "cell_type": "code",
   "execution_count": null,
   "metadata": {},
   "outputs": [],
   "source": [
    "# Plot min vs max temp by weather\n",
    "\n",
    "# select default styles\n",
    "plt.style.use(\"default\")\n",
    "sns.set_theme()\n",
    "\n",
    "# define colors for weather category\n",
    "# hint: sns.color_pallet() generates nice color palettes\n",
    "colors = {\n",
    "    \"rain\": \"#1f77b4\",\n",
    "    \"drizzle\": \"#aec7e8\",\n",
    "    \"fog\": \"#a7a7a7\",\n",
    "    \"sun\": \"#e7ba52\",\n",
    "    \"snow\": \"#9467bd\",\n",
    "}\n",
    "\n",
    "# take a sample from the population\n",
    "#df_sample = df_weather.sample(200)\n",
    "fig = sns.lmplot(data = df_weather, x=\"temp_min\", y=\"temp_max\", hue=\"weather\", col=\"weather\", palette=colors)\n",
    "fig.set(\n",
    "    #title=\"Max. Temperature vs. Min. Temperature in Seattle\",\n",
    "    xlabel=\"Min. Temperature (°C)\",\n",
    "    ylabel=\"Max. Temperature (°C)\",\n",
    ")\n",
    "\n",
    "plt.show()"
   ]
  },
  {
   "cell_type": "code",
   "execution_count": null,
   "metadata": {},
   "outputs": [],
   "source": [
    "# Pairplot for all variables (correlation matrix)\n",
    "sns.set_style(\"white\")\n",
    "plt.style.use(\"fivethirtyeight\")\n",
    "\n",
    "# define colors for weather category\n",
    "colors = {\n",
    "    \"rain\": \"#1f77b4\",\n",
    "    \"drizzle\": \"#aec7e8\",\n",
    "    \"fog\": \"#a7a7a7\",\n",
    "    \"sun\": \"#e7ba52\",\n",
    "    \"snow\": \"#9467bd\",\n",
    "}\n",
    "\n",
    "g = sns.pairplot(\n",
    "    df_weather[[\"precipitation\", \"temp_max\", \"temp_min\", \"wind\", \"weather\"]],\n",
    "    vars=[\"temp_max\", \"temp_min\", \"precipitation\"],\n",
    "    hue=\"weather\",\n",
    "    palette=colors,\n",
    ")\n",
    "\n",
    "g.fig.suptitle(\"Correlation Between Max./Min. Temperature And Precipitation\", y=1.05)\n",
    "\n",
    "\n",
    "plt.show()"
   ]
  },
  {
   "cell_type": "markdown",
   "metadata": {},
   "source": [
    "## 3. Plotly"
   ]
  },
  {
   "cell_type": "code",
   "execution_count": null,
   "metadata": {},
   "outputs": [],
   "source": []
  },
  {
   "cell_type": "markdown",
   "metadata": {},
   "source": [
    "## 4. Altair"
   ]
  },
  {
   "cell_type": "code",
   "execution_count": null,
   "metadata": {},
   "outputs": [],
   "source": [
    "## example stolen from: https://medium.com/analytics-vidhya/interactive-data-viz-using-altair-873139771fe2\n",
    "\n",
    "scale = alt.Scale(\n",
    "    domain=[\"sun\", \"fog\", \"drizzle\", \"rain\", \"snow\"],\n",
    "    range=[\"#e7ba52\", \"#a7a7a7\", \"#aec7e8\", \"#1f77b4\", \"#9467bd\"],\n",
    ")\n",
    "color = alt.Color(\"weather:N\", scale=scale)  # We create two selections\n",
    "# - a brush that is active on the top panel\n",
    "# - a multi-click that is active on the bottom panel\n",
    "brush = alt.selection_interval(encodings=[\"x\"])\n",
    "click = alt.selection_multi(\n",
    "    encodings=[\"color\"]\n",
    ")  # 1. Top panel is scatter plot of temperature vs time\n",
    "points = (\n",
    "    alt.Chart()\n",
    "    .mark_point()\n",
    "    .encode(\n",
    "        alt.X(\"monthdate(date):T\", title=\"Date\"),\n",
    "        alt.Y(\n",
    "            \"temp_max:Q\",\n",
    "            title=\"Maximum Daily Temperature (C)\",\n",
    "            scale=alt.Scale(domain=[-5, 40]),\n",
    "        ),\n",
    "        color=alt.condition(brush, color, alt.value(\"lightgray\")),\n",
    "        size=alt.Size(\"precipitation:Q\", scale=alt.Scale(range=[5, 200])),\n",
    "    )\n",
    "    .properties(width=550, height=300)\n",
    "    .add_selection(brush)\n",
    "    .transform_filter(click)\n",
    ")  ##########################\n",
    "# 2. Bottom panel is a bar chart of weather type\n",
    "bars = (\n",
    "    alt.Chart()\n",
    "    .mark_bar()\n",
    "    .encode(\n",
    "        x=\"count()\",\n",
    "        y=\"weather:N\",\n",
    "        color=alt.condition(click, color, alt.value(\"lightgray\")),\n",
    "    )\n",
    "    .transform_filter(brush)\n",
    "    .properties(\n",
    "        width=550,\n",
    "    )\n",
    "    .add_selection(click)\n",
    ")  ###########################3. Build Compound Plot\n",
    "alt.vconcat(points, bars, data=df_weather, title=\"Seattle Weather: 2012-2015\")"
   ]
  }
 ],
 "metadata": {
  "kernelspec": {
   "display_name": "Python 3 (ipykernel)",
   "language": "python",
   "name": "python3"
  },
  "language_info": {
   "codemirror_mode": {
    "name": "ipython",
    "version": 3
   },
   "file_extension": ".py",
   "mimetype": "text/x-python",
   "name": "python",
   "nbconvert_exporter": "python",
   "pygments_lexer": "ipython3",
   "version": "3.11.3"
  }
 },
 "nbformat": 4,
 "nbformat_minor": 4
}
