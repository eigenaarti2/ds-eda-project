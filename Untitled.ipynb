{
 "cells": [
  {
   "cell_type": "code",
   "execution_count": 1,
   "id": "793971c5-a8a1-4855-aa1e-0e0ec075d092",
   "metadata": {},
   "outputs": [
    {
     "name": "stdout",
     "output_type": "stream",
     "text": [
      "Requirement already satisfied: RISE in /Users/eigenaarti/.pyenv/versions/3.11.3/lib/python3.11/site-packages (5.7.1)\n",
      "Requirement already satisfied: notebook>=6.0 in /Users/eigenaarti/.pyenv/versions/3.11.3/lib/python3.11/site-packages (from RISE) (7.0.2)\n",
      "Requirement already satisfied: jupyter-server<3,>=2.4.0 in /Users/eigenaarti/.pyenv/versions/3.11.3/lib/python3.11/site-packages (from notebook>=6.0->RISE) (2.7.0)\n",
      "Requirement already satisfied: jupyterlab-server<3,>=2.22.1 in /Users/eigenaarti/.pyenv/versions/3.11.3/lib/python3.11/site-packages (from notebook>=6.0->RISE) (2.24.0)\n",
      "Requirement already satisfied: jupyterlab<5,>=4.0.2 in /Users/eigenaarti/.pyenv/versions/3.11.3/lib/python3.11/site-packages (from notebook>=6.0->RISE) (4.0.4)\n",
      "Requirement already satisfied: notebook-shim<0.3,>=0.2 in /Users/eigenaarti/.pyenv/versions/3.11.3/lib/python3.11/site-packages (from notebook>=6.0->RISE) (0.2.3)\n",
      "Requirement already satisfied: tornado>=6.2.0 in /Users/eigenaarti/.pyenv/versions/3.11.3/lib/python3.11/site-packages (from notebook>=6.0->RISE) (6.3.2)\n",
      "Requirement already satisfied: anyio>=3.1.0 in /Users/eigenaarti/.pyenv/versions/3.11.3/lib/python3.11/site-packages (from jupyter-server<3,>=2.4.0->notebook>=6.0->RISE) (3.7.1)\n",
      "Requirement already satisfied: argon2-cffi in /Users/eigenaarti/.pyenv/versions/3.11.3/lib/python3.11/site-packages (from jupyter-server<3,>=2.4.0->notebook>=6.0->RISE) (21.3.0)\n",
      "Requirement already satisfied: jinja2 in /Users/eigenaarti/.pyenv/versions/3.11.3/lib/python3.11/site-packages (from jupyter-server<3,>=2.4.0->notebook>=6.0->RISE) (3.1.2)\n",
      "Requirement already satisfied: jupyter-client>=7.4.4 in /Users/eigenaarti/.pyenv/versions/3.11.3/lib/python3.11/site-packages (from jupyter-server<3,>=2.4.0->notebook>=6.0->RISE) (8.3.0)\n",
      "Requirement already satisfied: jupyter-core!=5.0.*,>=4.12 in /Users/eigenaarti/.pyenv/versions/3.11.3/lib/python3.11/site-packages (from jupyter-server<3,>=2.4.0->notebook>=6.0->RISE) (5.3.1)\n",
      "Requirement already satisfied: jupyter-events>=0.6.0 in /Users/eigenaarti/.pyenv/versions/3.11.3/lib/python3.11/site-packages (from jupyter-server<3,>=2.4.0->notebook>=6.0->RISE) (0.7.0)\n",
      "Requirement already satisfied: jupyter-server-terminals in /Users/eigenaarti/.pyenv/versions/3.11.3/lib/python3.11/site-packages (from jupyter-server<3,>=2.4.0->notebook>=6.0->RISE) (0.4.4)\n",
      "Requirement already satisfied: nbconvert>=6.4.4 in /Users/eigenaarti/.pyenv/versions/3.11.3/lib/python3.11/site-packages (from jupyter-server<3,>=2.4.0->notebook>=6.0->RISE) (7.7.3)\n",
      "Requirement already satisfied: nbformat>=5.3.0 in /Users/eigenaarti/.pyenv/versions/3.11.3/lib/python3.11/site-packages (from jupyter-server<3,>=2.4.0->notebook>=6.0->RISE) (5.9.2)\n",
      "Requirement already satisfied: overrides in /Users/eigenaarti/.pyenv/versions/3.11.3/lib/python3.11/site-packages (from jupyter-server<3,>=2.4.0->notebook>=6.0->RISE) (7.4.0)\n",
      "Requirement already satisfied: packaging in /Users/eigenaarti/.pyenv/versions/3.11.3/lib/python3.11/site-packages (from jupyter-server<3,>=2.4.0->notebook>=6.0->RISE) (23.1)\n",
      "Requirement already satisfied: prometheus-client in /Users/eigenaarti/.pyenv/versions/3.11.3/lib/python3.11/site-packages (from jupyter-server<3,>=2.4.0->notebook>=6.0->RISE) (0.17.1)\n",
      "Requirement already satisfied: pyzmq>=24 in /Users/eigenaarti/.pyenv/versions/3.11.3/lib/python3.11/site-packages (from jupyter-server<3,>=2.4.0->notebook>=6.0->RISE) (25.1.1)\n",
      "Requirement already satisfied: send2trash in /Users/eigenaarti/.pyenv/versions/3.11.3/lib/python3.11/site-packages (from jupyter-server<3,>=2.4.0->notebook>=6.0->RISE) (1.8.2)\n",
      "Requirement already satisfied: terminado>=0.8.3 in /Users/eigenaarti/.pyenv/versions/3.11.3/lib/python3.11/site-packages (from jupyter-server<3,>=2.4.0->notebook>=6.0->RISE) (0.17.1)\n",
      "Requirement already satisfied: traitlets>=5.6.0 in /Users/eigenaarti/.pyenv/versions/3.11.3/lib/python3.11/site-packages (from jupyter-server<3,>=2.4.0->notebook>=6.0->RISE) (5.9.0)\n",
      "Requirement already satisfied: websocket-client in /Users/eigenaarti/.pyenv/versions/3.11.3/lib/python3.11/site-packages (from jupyter-server<3,>=2.4.0->notebook>=6.0->RISE) (1.6.1)\n",
      "Requirement already satisfied: async-lru>=1.0.0 in /Users/eigenaarti/.pyenv/versions/3.11.3/lib/python3.11/site-packages (from jupyterlab<5,>=4.0.2->notebook>=6.0->RISE) (2.0.4)\n",
      "Requirement already satisfied: ipykernel in /Users/eigenaarti/.pyenv/versions/3.11.3/lib/python3.11/site-packages (from jupyterlab<5,>=4.0.2->notebook>=6.0->RISE) (6.25.1)\n",
      "Requirement already satisfied: jupyter-lsp>=2.0.0 in /Users/eigenaarti/.pyenv/versions/3.11.3/lib/python3.11/site-packages (from jupyterlab<5,>=4.0.2->notebook>=6.0->RISE) (2.2.0)\n",
      "Requirement already satisfied: babel>=2.10 in /Users/eigenaarti/.pyenv/versions/3.11.3/lib/python3.11/site-packages (from jupyterlab-server<3,>=2.22.1->notebook>=6.0->RISE) (2.12.1)\n",
      "Requirement already satisfied: json5>=0.9.0 in /Users/eigenaarti/.pyenv/versions/3.11.3/lib/python3.11/site-packages (from jupyterlab-server<3,>=2.22.1->notebook>=6.0->RISE) (0.9.14)\n",
      "Requirement already satisfied: jsonschema>=4.17.3 in /Users/eigenaarti/.pyenv/versions/3.11.3/lib/python3.11/site-packages (from jupyterlab-server<3,>=2.22.1->notebook>=6.0->RISE) (4.19.0)\n",
      "Requirement already satisfied: requests>=2.28 in /Users/eigenaarti/.pyenv/versions/3.11.3/lib/python3.11/site-packages (from jupyterlab-server<3,>=2.22.1->notebook>=6.0->RISE) (2.31.0)\n",
      "Requirement already satisfied: idna>=2.8 in /Users/eigenaarti/.pyenv/versions/3.11.3/lib/python3.11/site-packages (from anyio>=3.1.0->jupyter-server<3,>=2.4.0->notebook>=6.0->RISE) (3.4)\n",
      "Requirement already satisfied: sniffio>=1.1 in /Users/eigenaarti/.pyenv/versions/3.11.3/lib/python3.11/site-packages (from anyio>=3.1.0->jupyter-server<3,>=2.4.0->notebook>=6.0->RISE) (1.3.0)\n",
      "Requirement already satisfied: MarkupSafe>=2.0 in /Users/eigenaarti/.pyenv/versions/3.11.3/lib/python3.11/site-packages (from jinja2->jupyter-server<3,>=2.4.0->notebook>=6.0->RISE) (2.1.3)\n",
      "Requirement already satisfied: attrs>=22.2.0 in /Users/eigenaarti/.pyenv/versions/3.11.3/lib/python3.11/site-packages (from jsonschema>=4.17.3->jupyterlab-server<3,>=2.22.1->notebook>=6.0->RISE) (23.1.0)\n",
      "Requirement already satisfied: jsonschema-specifications>=2023.03.6 in /Users/eigenaarti/.pyenv/versions/3.11.3/lib/python3.11/site-packages (from jsonschema>=4.17.3->jupyterlab-server<3,>=2.22.1->notebook>=6.0->RISE) (2023.7.1)\n",
      "Requirement already satisfied: referencing>=0.28.4 in /Users/eigenaarti/.pyenv/versions/3.11.3/lib/python3.11/site-packages (from jsonschema>=4.17.3->jupyterlab-server<3,>=2.22.1->notebook>=6.0->RISE) (0.30.2)\n",
      "Requirement already satisfied: rpds-py>=0.7.1 in /Users/eigenaarti/.pyenv/versions/3.11.3/lib/python3.11/site-packages (from jsonschema>=4.17.3->jupyterlab-server<3,>=2.22.1->notebook>=6.0->RISE) (0.9.2)\n",
      "Requirement already satisfied: python-dateutil>=2.8.2 in /Users/eigenaarti/.pyenv/versions/3.11.3/lib/python3.11/site-packages (from jupyter-client>=7.4.4->jupyter-server<3,>=2.4.0->notebook>=6.0->RISE) (2.8.2)\n",
      "Requirement already satisfied: platformdirs>=2.5 in /Users/eigenaarti/.pyenv/versions/3.11.3/lib/python3.11/site-packages (from jupyter-core!=5.0.*,>=4.12->jupyter-server<3,>=2.4.0->notebook>=6.0->RISE) (3.10.0)\n",
      "Requirement already satisfied: python-json-logger>=2.0.4 in /Users/eigenaarti/.pyenv/versions/3.11.3/lib/python3.11/site-packages (from jupyter-events>=0.6.0->jupyter-server<3,>=2.4.0->notebook>=6.0->RISE) (2.0.7)\n",
      "Requirement already satisfied: pyyaml>=5.3 in /Users/eigenaarti/.pyenv/versions/3.11.3/lib/python3.11/site-packages (from jupyter-events>=0.6.0->jupyter-server<3,>=2.4.0->notebook>=6.0->RISE) (6.0.1)\n",
      "Requirement already satisfied: rfc3339-validator in /Users/eigenaarti/.pyenv/versions/3.11.3/lib/python3.11/site-packages (from jupyter-events>=0.6.0->jupyter-server<3,>=2.4.0->notebook>=6.0->RISE) (0.1.4)\n",
      "Requirement already satisfied: rfc3986-validator>=0.1.1 in /Users/eigenaarti/.pyenv/versions/3.11.3/lib/python3.11/site-packages (from jupyter-events>=0.6.0->jupyter-server<3,>=2.4.0->notebook>=6.0->RISE) (0.1.1)\n",
      "Requirement already satisfied: beautifulsoup4 in /Users/eigenaarti/.pyenv/versions/3.11.3/lib/python3.11/site-packages (from nbconvert>=6.4.4->jupyter-server<3,>=2.4.0->notebook>=6.0->RISE) (4.12.2)\n",
      "Requirement already satisfied: bleach!=5.0.0 in /Users/eigenaarti/.pyenv/versions/3.11.3/lib/python3.11/site-packages (from nbconvert>=6.4.4->jupyter-server<3,>=2.4.0->notebook>=6.0->RISE) (6.0.0)\n",
      "Requirement already satisfied: defusedxml in /Users/eigenaarti/.pyenv/versions/3.11.3/lib/python3.11/site-packages (from nbconvert>=6.4.4->jupyter-server<3,>=2.4.0->notebook>=6.0->RISE) (0.7.1)\n",
      "Requirement already satisfied: jupyterlab-pygments in /Users/eigenaarti/.pyenv/versions/3.11.3/lib/python3.11/site-packages (from nbconvert>=6.4.4->jupyter-server<3,>=2.4.0->notebook>=6.0->RISE) (0.2.2)\n",
      "Requirement already satisfied: mistune<4,>=2.0.3 in /Users/eigenaarti/.pyenv/versions/3.11.3/lib/python3.11/site-packages (from nbconvert>=6.4.4->jupyter-server<3,>=2.4.0->notebook>=6.0->RISE) (3.0.1)\n",
      "Requirement already satisfied: nbclient>=0.5.0 in /Users/eigenaarti/.pyenv/versions/3.11.3/lib/python3.11/site-packages (from nbconvert>=6.4.4->jupyter-server<3,>=2.4.0->notebook>=6.0->RISE) (0.8.0)\n",
      "Requirement already satisfied: pandocfilters>=1.4.1 in /Users/eigenaarti/.pyenv/versions/3.11.3/lib/python3.11/site-packages (from nbconvert>=6.4.4->jupyter-server<3,>=2.4.0->notebook>=6.0->RISE) (1.5.0)\n",
      "Requirement already satisfied: pygments>=2.4.1 in /Users/eigenaarti/.pyenv/versions/3.11.3/lib/python3.11/site-packages (from nbconvert>=6.4.4->jupyter-server<3,>=2.4.0->notebook>=6.0->RISE) (2.16.1)\n",
      "Requirement already satisfied: tinycss2 in /Users/eigenaarti/.pyenv/versions/3.11.3/lib/python3.11/site-packages (from nbconvert>=6.4.4->jupyter-server<3,>=2.4.0->notebook>=6.0->RISE) (1.2.1)\n",
      "Requirement already satisfied: fastjsonschema in /Users/eigenaarti/.pyenv/versions/3.11.3/lib/python3.11/site-packages (from nbformat>=5.3.0->jupyter-server<3,>=2.4.0->notebook>=6.0->RISE) (2.18.0)\n",
      "Requirement already satisfied: charset-normalizer<4,>=2 in /Users/eigenaarti/.pyenv/versions/3.11.3/lib/python3.11/site-packages (from requests>=2.28->jupyterlab-server<3,>=2.22.1->notebook>=6.0->RISE) (3.2.0)\n",
      "Requirement already satisfied: urllib3<3,>=1.21.1 in /Users/eigenaarti/.pyenv/versions/3.11.3/lib/python3.11/site-packages (from requests>=2.28->jupyterlab-server<3,>=2.22.1->notebook>=6.0->RISE) (2.0.4)\n",
      "Requirement already satisfied: certifi>=2017.4.17 in /Users/eigenaarti/.pyenv/versions/3.11.3/lib/python3.11/site-packages (from requests>=2.28->jupyterlab-server<3,>=2.22.1->notebook>=6.0->RISE) (2023.7.22)\n",
      "Requirement already satisfied: ptyprocess in /Users/eigenaarti/.pyenv/versions/3.11.3/lib/python3.11/site-packages (from terminado>=0.8.3->jupyter-server<3,>=2.4.0->notebook>=6.0->RISE) (0.7.0)\n",
      "Requirement already satisfied: argon2-cffi-bindings in /Users/eigenaarti/.pyenv/versions/3.11.3/lib/python3.11/site-packages (from argon2-cffi->jupyter-server<3,>=2.4.0->notebook>=6.0->RISE) (21.2.0)\n",
      "Requirement already satisfied: appnope in /Users/eigenaarti/.pyenv/versions/3.11.3/lib/python3.11/site-packages (from ipykernel->jupyterlab<5,>=4.0.2->notebook>=6.0->RISE) (0.1.3)\n",
      "Requirement already satisfied: comm>=0.1.1 in /Users/eigenaarti/.pyenv/versions/3.11.3/lib/python3.11/site-packages (from ipykernel->jupyterlab<5,>=4.0.2->notebook>=6.0->RISE) (0.1.4)\n",
      "Requirement already satisfied: debugpy>=1.6.5 in /Users/eigenaarti/.pyenv/versions/3.11.3/lib/python3.11/site-packages (from ipykernel->jupyterlab<5,>=4.0.2->notebook>=6.0->RISE) (1.6.7.post1)\n",
      "Requirement already satisfied: ipython>=7.23.1 in /Users/eigenaarti/.pyenv/versions/3.11.3/lib/python3.11/site-packages (from ipykernel->jupyterlab<5,>=4.0.2->notebook>=6.0->RISE) (8.14.0)\n",
      "Requirement already satisfied: matplotlib-inline>=0.1 in /Users/eigenaarti/.pyenv/versions/3.11.3/lib/python3.11/site-packages (from ipykernel->jupyterlab<5,>=4.0.2->notebook>=6.0->RISE) (0.1.6)\n",
      "Requirement already satisfied: nest-asyncio in /Users/eigenaarti/.pyenv/versions/3.11.3/lib/python3.11/site-packages (from ipykernel->jupyterlab<5,>=4.0.2->notebook>=6.0->RISE) (1.5.7)\n",
      "Requirement already satisfied: psutil in /Users/eigenaarti/.pyenv/versions/3.11.3/lib/python3.11/site-packages (from ipykernel->jupyterlab<5,>=4.0.2->notebook>=6.0->RISE) (5.9.5)\n",
      "Requirement already satisfied: six>=1.9.0 in /Users/eigenaarti/.pyenv/versions/3.11.3/lib/python3.11/site-packages (from bleach!=5.0.0->nbconvert>=6.4.4->jupyter-server<3,>=2.4.0->notebook>=6.0->RISE) (1.16.0)\n",
      "Requirement already satisfied: webencodings in /Users/eigenaarti/.pyenv/versions/3.11.3/lib/python3.11/site-packages (from bleach!=5.0.0->nbconvert>=6.4.4->jupyter-server<3,>=2.4.0->notebook>=6.0->RISE) (0.5.1)\n",
      "Requirement already satisfied: backcall in /Users/eigenaarti/.pyenv/versions/3.11.3/lib/python3.11/site-packages (from ipython>=7.23.1->ipykernel->jupyterlab<5,>=4.0.2->notebook>=6.0->RISE) (0.2.0)\n",
      "Requirement already satisfied: decorator in /Users/eigenaarti/.pyenv/versions/3.11.3/lib/python3.11/site-packages (from ipython>=7.23.1->ipykernel->jupyterlab<5,>=4.0.2->notebook>=6.0->RISE) (5.1.1)\n",
      "Requirement already satisfied: jedi>=0.16 in /Users/eigenaarti/.pyenv/versions/3.11.3/lib/python3.11/site-packages (from ipython>=7.23.1->ipykernel->jupyterlab<5,>=4.0.2->notebook>=6.0->RISE) (0.19.0)\n",
      "Requirement already satisfied: pickleshare in /Users/eigenaarti/.pyenv/versions/3.11.3/lib/python3.11/site-packages (from ipython>=7.23.1->ipykernel->jupyterlab<5,>=4.0.2->notebook>=6.0->RISE) (0.7.5)\n",
      "Requirement already satisfied: prompt-toolkit!=3.0.37,<3.1.0,>=3.0.30 in /Users/eigenaarti/.pyenv/versions/3.11.3/lib/python3.11/site-packages (from ipython>=7.23.1->ipykernel->jupyterlab<5,>=4.0.2->notebook>=6.0->RISE) (3.0.39)\n",
      "Requirement already satisfied: stack-data in /Users/eigenaarti/.pyenv/versions/3.11.3/lib/python3.11/site-packages (from ipython>=7.23.1->ipykernel->jupyterlab<5,>=4.0.2->notebook>=6.0->RISE) (0.6.2)\n",
      "Requirement already satisfied: pexpect>4.3 in /Users/eigenaarti/.pyenv/versions/3.11.3/lib/python3.11/site-packages (from ipython>=7.23.1->ipykernel->jupyterlab<5,>=4.0.2->notebook>=6.0->RISE) (4.8.0)\n",
      "Requirement already satisfied: fqdn in /Users/eigenaarti/.pyenv/versions/3.11.3/lib/python3.11/site-packages (from jsonschema>=4.17.3->jupyterlab-server<3,>=2.22.1->notebook>=6.0->RISE) (1.5.1)\n",
      "Requirement already satisfied: isoduration in /Users/eigenaarti/.pyenv/versions/3.11.3/lib/python3.11/site-packages (from jsonschema>=4.17.3->jupyterlab-server<3,>=2.22.1->notebook>=6.0->RISE) (20.11.0)\n",
      "Requirement already satisfied: jsonpointer>1.13 in /Users/eigenaarti/.pyenv/versions/3.11.3/lib/python3.11/site-packages (from jsonschema>=4.17.3->jupyterlab-server<3,>=2.22.1->notebook>=6.0->RISE) (2.4)\n",
      "Requirement already satisfied: uri-template in /Users/eigenaarti/.pyenv/versions/3.11.3/lib/python3.11/site-packages (from jsonschema>=4.17.3->jupyterlab-server<3,>=2.22.1->notebook>=6.0->RISE) (1.3.0)\n",
      "Requirement already satisfied: webcolors>=1.11 in /Users/eigenaarti/.pyenv/versions/3.11.3/lib/python3.11/site-packages (from jsonschema>=4.17.3->jupyterlab-server<3,>=2.22.1->notebook>=6.0->RISE) (1.13)\n",
      "Requirement already satisfied: cffi>=1.0.1 in /Users/eigenaarti/.pyenv/versions/3.11.3/lib/python3.11/site-packages (from argon2-cffi-bindings->argon2-cffi->jupyter-server<3,>=2.4.0->notebook>=6.0->RISE) (1.15.1)\n",
      "Requirement already satisfied: soupsieve>1.2 in /Users/eigenaarti/.pyenv/versions/3.11.3/lib/python3.11/site-packages (from beautifulsoup4->nbconvert>=6.4.4->jupyter-server<3,>=2.4.0->notebook>=6.0->RISE) (2.4.1)\n",
      "Requirement already satisfied: pycparser in /Users/eigenaarti/.pyenv/versions/3.11.3/lib/python3.11/site-packages (from cffi>=1.0.1->argon2-cffi-bindings->argon2-cffi->jupyter-server<3,>=2.4.0->notebook>=6.0->RISE) (2.21)\n",
      "Requirement already satisfied: parso<0.9.0,>=0.8.3 in /Users/eigenaarti/.pyenv/versions/3.11.3/lib/python3.11/site-packages (from jedi>=0.16->ipython>=7.23.1->ipykernel->jupyterlab<5,>=4.0.2->notebook>=6.0->RISE) (0.8.3)\n",
      "Requirement already satisfied: wcwidth in /Users/eigenaarti/.pyenv/versions/3.11.3/lib/python3.11/site-packages (from prompt-toolkit!=3.0.37,<3.1.0,>=3.0.30->ipython>=7.23.1->ipykernel->jupyterlab<5,>=4.0.2->notebook>=6.0->RISE) (0.2.6)\n",
      "Requirement already satisfied: arrow>=0.15.0 in /Users/eigenaarti/.pyenv/versions/3.11.3/lib/python3.11/site-packages (from isoduration->jsonschema>=4.17.3->jupyterlab-server<3,>=2.22.1->notebook>=6.0->RISE) (1.2.3)\n",
      "Requirement already satisfied: executing>=1.2.0 in /Users/eigenaarti/.pyenv/versions/3.11.3/lib/python3.11/site-packages (from stack-data->ipython>=7.23.1->ipykernel->jupyterlab<5,>=4.0.2->notebook>=6.0->RISE) (1.2.0)\n",
      "Requirement already satisfied: asttokens>=2.1.0 in /Users/eigenaarti/.pyenv/versions/3.11.3/lib/python3.11/site-packages (from stack-data->ipython>=7.23.1->ipykernel->jupyterlab<5,>=4.0.2->notebook>=6.0->RISE) (2.2.1)\n",
      "Requirement already satisfied: pure-eval in /Users/eigenaarti/.pyenv/versions/3.11.3/lib/python3.11/site-packages (from stack-data->ipython>=7.23.1->ipykernel->jupyterlab<5,>=4.0.2->notebook>=6.0->RISE) (0.2.2)\n"
     ]
    }
   ],
   "source": [
    "!pip install RISE\n"
   ]
  },
  {
   "cell_type": "code",
   "execution_count": 2,
   "id": "9bf1b38e-4584-4955-bd68-c1a1ddce67ec",
   "metadata": {},
   "outputs": [
    {
     "name": "stdout",
     "output_type": "stream",
     "text": [
      "zsh:1: command not found: jupyter-nbextension\n",
      "zsh:1: command not found: jupyter-nbextension\n"
     ]
    }
   ],
   "source": [
    "!jupyter-nbextension install rise --py --sys-prefix\n",
    "!jupyter-nbextension enable rise --py --sys-prefix"
   ]
  }
 ],
 "metadata": {
  "kernelspec": {
   "display_name": "venv",
   "language": "python",
   "name": "venv"
  },
  "language_info": {
   "codemirror_mode": {
    "name": "ipython",
    "version": 3
   },
   "file_extension": ".py",
   "mimetype": "text/x-python",
   "name": "python",
   "nbconvert_exporter": "python",
   "pygments_lexer": "ipython3",
   "version": "3.11.3"
  }
 },
 "nbformat": 4,
 "nbformat_minor": 5
}
