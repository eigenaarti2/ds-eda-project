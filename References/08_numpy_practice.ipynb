{
 "cells": [
  {
   "attachments": {},
   "cell_type": "markdown",
   "id": "confirmed-protocol",
   "metadata": {},
   "source": [
    "# Practice on NumPy and pandas"
   ]
  },
  {
   "attachments": {},
   "cell_type": "markdown",
   "id": "c7d709b8",
   "metadata": {},
   "source": [
    "Here are some task for you, to refresh what you saw in the notebooks before.\n",
    "\n",
    "It will help you strengthen the **learning objectives** from the notebook before. You should be able to\n",
    "- create NumPy arrays\n",
    "- manipulate them with basic mathematics operators\n",
    "- extract rows, columns and items by indexing\n",
    "- use aggregation methods (like sum, min, max, std) on NumPy arrays\n"
   ]
  },
  {
   "attachments": {},
   "cell_type": "markdown",
   "id": "3d62cbd2",
   "metadata": {},
   "source": [
    "## Part 1: Creating NumPy arrays."
   ]
  },
  {
   "attachments": {},
   "cell_type": "markdown",
   "id": "34de5ba6",
   "metadata": {},
   "source": [
    "1. Please create a NumPy array from the list:\n",
    "```Python\n",
    "my_list = [1, 2, 5, 6, 8]\n",
    "````"
   ]
  },
  {
   "cell_type": "code",
   "execution_count": 27,
   "id": "6e1c35d6",
   "metadata": {},
   "outputs": [
    {
     "data": {
      "text/plain": [
       "array([1, 2, 5, 6, 8])"
      ]
     },
     "execution_count": 27,
     "metadata": {},
     "output_type": "execute_result"
    }
   ],
   "source": [
    "import numpy as np\n",
    "\n",
    "my_list = np.array([1,2,5,6,8])\n",
    "my_list"
   ]
  },
  {
   "attachments": {},
   "cell_type": "markdown",
   "id": "98940d2c",
   "metadata": {},
   "source": [
    "2. Please create a NumPy array containing the values from 1 to 10.\n"
   ]
  },
  {
   "cell_type": "code",
   "execution_count": 28,
   "id": "ef0afdb1",
   "metadata": {},
   "outputs": [
    {
     "data": {
      "text/plain": [
       "array([ 1,  2,  3,  4,  5,  6,  7,  8,  9, 10])"
      ]
     },
     "execution_count": 28,
     "metadata": {},
     "output_type": "execute_result"
    }
   ],
   "source": [
    "my_list = np.array(range(1,11,1))\n",
    "my_list"
   ]
  },
  {
   "attachments": {},
   "cell_type": "markdown",
   "id": "4f4dcfd6",
   "metadata": {},
   "source": [
    "3. Please create a NumPy array from 0 to 5 with a step size of 0.2\n"
   ]
  },
  {
   "cell_type": "code",
   "execution_count": 29,
   "id": "83964d12",
   "metadata": {},
   "outputs": [
    {
     "data": {
      "text/plain": [
       "array([0. , 0.2, 0.4, 0.6, 0.8, 1. , 1.2, 1.4, 1.6, 1.8, 2. , 2.2, 2.4,\n",
       "       2.6, 2.8, 3. , 3.2, 3.4, 3.6, 3.8, 4. , 4.2, 4.4, 4.6, 4.8, 5. ])"
      ]
     },
     "execution_count": 29,
     "metadata": {},
     "output_type": "execute_result"
    }
   ],
   "source": [
    "my_list = np.arange(0,5.2,0.2)\n",
    "my_list"
   ]
  },
  {
   "attachments": {},
   "cell_type": "markdown",
   "id": "336cc2a1",
   "metadata": {},
   "source": [
    "4. Create a NumPy array with the shape 2,3 with random values\n"
   ]
  },
  {
   "cell_type": "code",
   "execution_count": 30,
   "id": "53a03d82",
   "metadata": {},
   "outputs": [
    {
     "data": {
      "text/plain": [
       "array([[0.38657778, 0.07074579, 0.34311913],\n",
       "       [0.4844422 , 0.14905967, 0.57143119]])"
      ]
     },
     "execution_count": 30,
     "metadata": {},
     "output_type": "execute_result"
    }
   ],
   "source": [
    "my_list = np.random.rand(2,3)\n",
    "my_list"
   ]
  },
  {
   "attachments": {},
   "cell_type": "markdown",
   "id": "oriental-spare",
   "metadata": {},
   "source": [
    "## Part 2: Manipulate NumPy arrays."
   ]
  },
  {
   "attachments": {},
   "cell_type": "markdown",
   "id": "91890de7",
   "metadata": {},
   "source": [
    "1. Please create a NumPy array with (1, 3, '4', 7, 12, '0'). Define the content as integer.\n"
   ]
  },
  {
   "cell_type": "code",
   "execution_count": 31,
   "id": "61d26aee",
   "metadata": {},
   "outputs": [
    {
     "data": {
      "text/plain": [
       "array([ 1,  3,  4,  7, 12,  0], dtype=int32)"
      ]
     },
     "execution_count": 31,
     "metadata": {},
     "output_type": "execute_result"
    }
   ],
   "source": [
    "my_list = np.array([1 ,3,\"4\",7,12,\"0\"], np.int32)\n",
    "my_list"
   ]
  },
  {
   "attachments": {},
   "cell_type": "markdown",
   "id": "f6cafebd",
   "metadata": {},
   "source": [
    "2. Check the data type of the objects and the shape of the array\n"
   ]
  },
  {
   "cell_type": "code",
   "execution_count": 32,
   "id": "1b12ef5b",
   "metadata": {},
   "outputs": [
    {
     "data": {
      "text/plain": [
       "dtype('int32')"
      ]
     },
     "execution_count": 32,
     "metadata": {},
     "output_type": "execute_result"
    }
   ],
   "source": [
    "my_list.dtype"
   ]
  },
  {
   "cell_type": "code",
   "execution_count": 33,
   "id": "5d5c41ef",
   "metadata": {},
   "outputs": [
    {
     "data": {
      "text/plain": [
       "(6,)"
      ]
     },
     "execution_count": 33,
     "metadata": {},
     "output_type": "execute_result"
    }
   ],
   "source": [
    "my_list.shape"
   ]
  },
  {
   "attachments": {},
   "cell_type": "markdown",
   "id": "e37322f3",
   "metadata": {},
   "source": [
    "3. Update the 4th value to 30.\n"
   ]
  },
  {
   "cell_type": "code",
   "execution_count": 34,
   "id": "1b0f9d6d",
   "metadata": {},
   "outputs": [
    {
     "data": {
      "text/plain": [
       "array([ 1,  3,  4, 30, 12,  0], dtype=int32)"
      ]
     },
     "execution_count": 34,
     "metadata": {},
     "output_type": "execute_result"
    }
   ],
   "source": [
    "my_list[3] = 30\n",
    "\n",
    "my_list"
   ]
  },
  {
   "attachments": {},
   "cell_type": "markdown",
   "id": "e1da4cf5",
   "metadata": {},
   "source": [
    "4. Reshape the array to a 2x3 matrix.\n"
   ]
  },
  {
   "cell_type": "code",
   "execution_count": 35,
   "id": "565e0a98",
   "metadata": {},
   "outputs": [
    {
     "data": {
      "text/plain": [
       "array([[ 1,  3,  4],\n",
       "       [30, 12,  0]], dtype=int32)"
      ]
     },
     "execution_count": 35,
     "metadata": {},
     "output_type": "execute_result"
    }
   ],
   "source": [
    "my_list = my_list.reshape(2,3)\n",
    "my_list"
   ]
  },
  {
   "attachments": {},
   "cell_type": "markdown",
   "id": "576b0d04",
   "metadata": {},
   "source": [
    "5. Please add 8 to each value in the first row and 12 to each in the second row.\n"
   ]
  },
  {
   "cell_type": "code",
   "execution_count": 36,
   "id": "e4f6d53e",
   "metadata": {},
   "outputs": [
    {
     "data": {
      "text/plain": [
       "array([[ 9, 11, 12],\n",
       "       [42, 24, 12]])"
      ]
     },
     "execution_count": 36,
     "metadata": {},
     "output_type": "execute_result"
    }
   ],
   "source": [
    "my_list = my_list + [[8],[12]]\n",
    "my_list"
   ]
  },
  {
   "attachments": {},
   "cell_type": "markdown",
   "id": "b84a1f0c",
   "metadata": {},
   "source": [
    "6. Multiply the first column with 2, the second with 3 and the third with 4.\n"
   ]
  },
  {
   "cell_type": "code",
   "execution_count": 37,
   "id": "a911ad0c",
   "metadata": {},
   "outputs": [
    {
     "data": {
      "text/plain": [
       "array([[18, 33, 48],\n",
       "       [84, 72, 48]])"
      ]
     },
     "execution_count": 37,
     "metadata": {},
     "output_type": "execute_result"
    }
   ],
   "source": [
    "my_list = my_list * [2,3,4]\n",
    "my_list"
   ]
  },
  {
   "attachments": {},
   "cell_type": "markdown",
   "id": "34d712b9",
   "metadata": {},
   "source": [
    "7. Please sum up all numbers in the first row, and all numbers in the second row.\n"
   ]
  },
  {
   "cell_type": "code",
   "execution_count": 38,
   "id": "c4a81b6b",
   "metadata": {},
   "outputs": [
    {
     "data": {
      "text/plain": [
       "array([ 99, 204])"
      ]
     },
     "execution_count": 38,
     "metadata": {},
     "output_type": "execute_result"
    }
   ],
   "source": [
    "my_list.sum(axis=1)"
   ]
  },
  {
   "attachments": {},
   "cell_type": "markdown",
   "id": "b110fa13",
   "metadata": {},
   "source": [
    "8. Similarly, search for the largest number for each column.\n"
   ]
  },
  {
   "cell_type": "code",
   "execution_count": 39,
   "id": "c301e362",
   "metadata": {},
   "outputs": [
    {
     "data": {
      "text/plain": [
       "array([84, 72, 48])"
      ]
     },
     "execution_count": 39,
     "metadata": {},
     "output_type": "execute_result"
    }
   ],
   "source": [
    "my_list.max(axis=0)"
   ]
  },
  {
   "attachments": {},
   "cell_type": "markdown",
   "id": "6576f08f",
   "metadata": {},
   "source": [
    "9. Extract the number in the second column and the first row.\n"
   ]
  },
  {
   "cell_type": "code",
   "execution_count": 40,
   "id": "89decadc",
   "metadata": {},
   "outputs": [
    {
     "data": {
      "text/plain": [
       "33"
      ]
     },
     "execution_count": 40,
     "metadata": {},
     "output_type": "execute_result"
    }
   ],
   "source": [
    "my_list[0, 1]"
   ]
  },
  {
   "attachments": {},
   "cell_type": "markdown",
   "id": "3ed5696b",
   "metadata": {},
   "source": [
    "10. Check at which index the value is exactly 48."
   ]
  },
  {
   "cell_type": "code",
   "execution_count": 41,
   "id": "41959045",
   "metadata": {},
   "outputs": [
    {
     "data": {
      "text/plain": [
       "(array([0, 1]), array([2, 2]))"
      ]
     },
     "execution_count": 41,
     "metadata": {},
     "output_type": "execute_result"
    }
   ],
   "source": [
    "np.where(my_list == 48)"
   ]
  },
  {
   "cell_type": "code",
   "execution_count": null,
   "id": "e4d50bdd",
   "metadata": {},
   "outputs": [],
   "source": []
  }
 ],
 "metadata": {
  "kernelspec": {
   "display_name": "Python 3.9.8 ('.pandas-numpy': venv)",
   "language": "python",
   "name": "python3"
  },
  "language_info": {
   "codemirror_mode": {
    "name": "ipython",
    "version": 3
   },
   "file_extension": ".py",
   "mimetype": "text/x-python",
   "name": "python",
   "nbconvert_exporter": "python",
   "pygments_lexer": "ipython3",
   "version": "3.11.3"
  },
  "vscode": {
   "interpreter": {
    "hash": "74c6cb286e0ae01e6e36d62f264b80149270f9e729c4f678639691c812c01bcf"
   }
  }
 },
 "nbformat": 4,
 "nbformat_minor": 5
}
